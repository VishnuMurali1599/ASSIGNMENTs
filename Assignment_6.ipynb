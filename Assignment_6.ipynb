{
 "cells": [
  {
   "cell_type": "code",
   "execution_count": null,
   "metadata": {
    "id": "XCln-53Ir2oH"
   },
   "outputs": [],
   "source": [
    "30/5/23"
   ]
  },
  {
   "cell_type": "code",
   "execution_count": null,
   "metadata": {
    "id": "QojvGA4vsLzn"
   },
   "outputs": [],
   "source": []
  },
  {
   "cell_type": "markdown",
   "metadata": {},
   "source": [
    "                           Python Basic - 1"
   ]
  },
  {
   "cell_type": "code",
   "execution_count": null,
   "metadata": {
    "id": "ByCRb1h2sL3c"
   },
   "outputs": [],
   "source": [
    "1."
   ]
  },
  {
   "cell_type": "code",
   "execution_count": null,
   "metadata": {
    "id": "_1Xq0MQvsS0V"
   },
   "outputs": [],
   "source": [
    "#Keywords\n",
    "'''Keyword are the reserved words that cannot used as ordinary\n",
    "  identifiers'''\n",
    "    \n",
    "'''Immutability-This means, their meaning or definition are not changed'''\n",
    "\n",
    "\n",
    "'''keywords are case sensitive'''\n",
    "    \n",
    "'''False ,True ,and,break,class,if ,else,elif,in'''"
   ]
  },
  {
   "cell_type": "code",
   "execution_count": null,
   "metadata": {
    "id": "8K4Lq_OVs1mu"
   },
   "outputs": [],
   "source": [
    "import keyword\n"
   ]
  },
  {
   "cell_type": "code",
   "execution_count": null,
   "metadata": {
    "colab": {
     "base_uri": "https://localhost:8080/"
    },
    "id": "VRrD4GK0saq0",
    "outputId": "f46fbf2b-8982-4132-fc1a-90f7973abc34"
   },
   "outputs": [
    {
     "name": "stdout",
     "output_type": "stream",
     "text": [
      "['False', 'None', 'True', 'and', 'as', 'assert', 'async', 'await', 'break', 'class', 'continue', 'def', 'del', 'elif', 'else', 'except', 'finally', 'for', 'from', 'global', 'if', 'import', 'in', 'is', 'lambda', 'nonlocal', 'not', 'or', 'pass', 'raise', 'return', 'try', 'while', 'with', 'yield']\n"
     ]
    }
   ],
   "source": [
    "print(keyword.kwlist)"
   ]
  },
  {
   "cell_type": "code",
   "execution_count": null,
   "metadata": {
    "id": "goA5QSMus65c"
   },
   "outputs": [],
   "source": []
  },
  {
   "cell_type": "code",
   "execution_count": null,
   "metadata": {
    "id": "ig_Al_2Is7Ca"
   },
   "outputs": [],
   "source": []
  },
  {
   "cell_type": "code",
   "execution_count": null,
   "metadata": {
    "id": "JuDQGRtfs7Gy"
   },
   "outputs": [],
   "source": [
    "2.Rules to create variable are:"
   ]
  },
  {
   "cell_type": "code",
   "execution_count": null,
   "metadata": {
    "id": "97DC5PfVtANg"
   },
   "outputs": [],
   "source": [
    "#.The first character of the variable must be alphabet or underscore\n",
    "#.Except the first character the remaining can be an alphabet of lower case,upper-case,underscore or digit\n",
    "#.Whenever we are having big variable we can use camel variable or underscore"
   ]
  },
  {
   "cell_type": "code",
   "execution_count": null,
   "metadata": {
    "id": "10DAicUQtYo2"
   },
   "outputs": [],
   "source": []
  },
  {
   "cell_type": "code",
   "execution_count": null,
   "metadata": {
    "id": "GEsqKdlrtYsu"
   },
   "outputs": [],
   "source": [
    "3.The standards and conventions followed are;\n",
    "\n",
    "#Identifier name must not contain any defined keyword ,whitespace or special character (*,@,!,#)\n",
    "#Indentifier name are case sensitive\n",
    "#Example:> myvariable and Myvariable are not same\n",
    "\n",
    "#Unless a variable is used as a loop counter or index, avoid using single-character names like x, i, or j"
   ]
  },
  {
   "cell_type": "code",
   "execution_count": null,
   "metadata": {
    "id": "kX5XX87MtZ-M"
   },
   "outputs": [],
   "source": []
  },
  {
   "cell_type": "code",
   "execution_count": null,
   "metadata": {
    "id": "HU7ovfnZ7IZL"
   },
   "outputs": [],
   "source": []
  },
  {
   "cell_type": "code",
   "execution_count": null,
   "metadata": {
    "id": "2xUbZ5gf6BBI"
   },
   "outputs": [],
   "source": [
    "4."
   ]
  },
  {
   "cell_type": "code",
   "execution_count": null,
   "metadata": {
    "id": "gkClDORBtaBw"
   },
   "outputs": [],
   "source": [
    "IF keyword is used as variable name it results in Syntax error."
   ]
  },
  {
   "cell_type": "code",
   "execution_count": null,
   "metadata": {
    "colab": {
     "base_uri": "https://localhost:8080/",
     "height": 130
    },
    "id": "jXt9youjtbjp",
    "outputId": "942b7083-40b9-4a2f-c02e-0dfd66882ab4"
   },
   "outputs": [
    {
     "ename": "SyntaxError",
     "evalue": "ignored",
     "output_type": "error",
     "traceback": [
      "\u001b[0;36m  File \u001b[0;32m\"<ipython-input-6-abdca7db7831>\"\u001b[0;36m, line \u001b[0;32m1\u001b[0m\n\u001b[0;31m    True=\"vishnu\"\u001b[0m\n\u001b[0m    ^\u001b[0m\n\u001b[0;31mSyntaxError\u001b[0m\u001b[0;31m:\u001b[0m cannot assign to True\n"
     ]
    }
   ],
   "source": [
    "True=\"vishnu\""
   ]
  },
  {
   "cell_type": "code",
   "execution_count": null,
   "metadata": {
    "id": "YlygrPOXto3k"
   },
   "outputs": [],
   "source": []
  },
  {
   "cell_type": "code",
   "execution_count": null,
   "metadata": {
    "id": "Dl_ZX3t2tuen"
   },
   "outputs": [],
   "source": [
    "5."
   ]
  },
  {
   "cell_type": "code",
   "execution_count": null,
   "metadata": {
    "id": "eiwfLT9vuveL"
   },
   "outputs": [],
   "source": [
    "def keyword is used to define a particular Function."
   ]
  },
  {
   "cell_type": "code",
   "execution_count": null,
   "metadata": {
    "id": "GGfyClfXu3G1"
   },
   "outputs": [],
   "source": [
    "def area_rect(l,b):\n",
    "  a=l*b\n",
    "  print(a)"
   ]
  },
  {
   "cell_type": "code",
   "execution_count": null,
   "metadata": {
    "colab": {
     "base_uri": "https://localhost:8080/"
    },
    "id": "unSu1HoKvH8C",
    "outputId": "2ae12cce-90bc-4f27-b4ed-968560eb949e"
   },
   "outputs": [
    {
     "name": "stdout",
     "output_type": "stream",
     "text": [
      "200\n"
     ]
    }
   ],
   "source": [
    "area_rect(10,20)"
   ]
  },
  {
   "cell_type": "code",
   "execution_count": null,
   "metadata": {
    "id": "xaS6tMf7vPK6"
   },
   "outputs": [],
   "source": [
    "#Here area of rectangle (area_rect) is defined as functioin with arguments"
   ]
  },
  {
   "cell_type": "code",
   "execution_count": null,
   "metadata": {
    "id": "X9akoM6kvoG_"
   },
   "outputs": [],
   "source": []
  },
  {
   "cell_type": "code",
   "execution_count": null,
   "metadata": {
    "id": "z--3i5hwvoKV"
   },
   "outputs": [],
   "source": []
  },
  {
   "cell_type": "code",
   "execution_count": null,
   "metadata": {
    "id": "XRChojUMvoOm"
   },
   "outputs": [],
   "source": [
    "6."
   ]
  },
  {
   "cell_type": "code",
   "execution_count": null,
   "metadata": {
    "id": "MXmNcb9QvoRh"
   },
   "outputs": [],
   "source": [
    "'''The backslash character () is used as an escape character.\n",
    "\n",
    "The backslash ( ) character is used to escape characters that otherwise have a special meaning, \n",
    "such as newline, tab space'''"
   ]
  },
  {
   "cell_type": "code",
   "execution_count": null,
   "metadata": {
    "colab": {
     "base_uri": "https://localhost:8080/"
    },
    "id": "4JcReArrwiMt",
    "outputId": "5ae3709c-c6db-4849-a3a0-5e68176abf25"
   },
   "outputs": [
    {
     "name": "stdout",
     "output_type": "stream",
     "text": [
      "Hello guys.\n",
      " Welcome to this AI world :\t Data Science\n"
     ]
    }
   ],
   "source": [
    "print(\"Hello guys.\\n Welcome to this AI world :\\t Data Science\")"
   ]
  },
  {
   "cell_type": "code",
   "execution_count": null,
   "metadata": {
    "id": "qa2gpHQpx0LQ"
   },
   "outputs": [],
   "source": []
  },
  {
   "cell_type": "code",
   "execution_count": null,
   "metadata": {
    "id": "pXJumPJSx4-V"
   },
   "outputs": [],
   "source": [
    "7."
   ]
  },
  {
   "cell_type": "code",
   "execution_count": null,
   "metadata": {
    "id": "FPWGQdi-x0gN"
   },
   "outputs": [],
   "source": [
    "#.Homogeneous List:"
   ]
  },
  {
   "cell_type": "code",
   "execution_count": null,
   "metadata": {
    "id": "A9NqdxbAx0sl"
   },
   "outputs": [],
   "source": [
    "In Homogeneous list elements will have same datatype"
   ]
  },
  {
   "cell_type": "code",
   "execution_count": 33,
   "metadata": {
    "colab": {
     "base_uri": "https://localhost:8080/"
    },
    "id": "2Ai478EF3Lmf",
    "outputId": "2ee6003c-779c-4c72-bd51-02e16c05952f"
   },
   "outputs": [
    {
     "name": "stdout",
     "output_type": "stream",
     "text": [
      "[10, 20, 30, 40, 50, 60]\n"
     ]
    }
   ],
   "source": [
    "hl=[10,20,30,40,50,60]\n",
    "print(hl)"
   ]
  },
  {
   "cell_type": "code",
   "execution_count": null,
   "metadata": {
    "id": "Tl0_k2OF3LYH"
   },
   "outputs": [],
   "source": [
    "#.Heterogeneous Set:"
   ]
  },
  {
   "cell_type": "code",
   "execution_count": null,
   "metadata": {
    "id": "A3vAAxw04FOY"
   },
   "outputs": [],
   "source": [
    "In Heterogeneous Set elements can have different datatype>"
   ]
  },
  {
   "cell_type": "code",
   "execution_count": 35,
   "metadata": {
    "colab": {
     "base_uri": "https://localhost:8080/"
    },
    "id": "gYs5V4Zs4FLC",
    "outputId": "074883eb-5af9-4c73-bd20-68c77544171a"
   },
   "outputs": [
    {
     "name": "stdout",
     "output_type": "stream",
     "text": [
      "{20, 'hello', 10, 'vishnu', 2525.5, 30}\n"
     ]
    }
   ],
   "source": [
    "hs={10,20,30,\"vishnu\",\"hello\",2525.5}\n",
    "print(hs)"
   ]
  },
  {
   "cell_type": "code",
   "execution_count": null,
   "metadata": {
    "id": "aNEsbrf44e_5"
   },
   "outputs": [],
   "source": [
    "#.Homogenous Tuple:"
   ]
  },
  {
   "cell_type": "code",
   "execution_count": null,
   "metadata": {
    "id": "Y6tjwPxT4mhC"
   },
   "outputs": [],
   "source": [
    "In Homogeneous tuple in which all elements will have same datatype."
   ]
  },
  {
   "cell_type": "code",
   "execution_count": 36,
   "metadata": {
    "colab": {
     "base_uri": "https://localhost:8080/"
    },
    "id": "gBOAFejU4zdy",
    "outputId": "e4af33fc-f936-4ae7-a98a-d04a2fcb06a4"
   },
   "outputs": [
    {
     "name": "stdout",
     "output_type": "stream",
     "text": [
      "('vishnu', 'murali', 'smitha', 'veena')\n"
     ]
    }
   ],
   "source": [
    "ht=(\"vishnu\",\"murali\",\"smitha\",\"veena\")\n",
    "print(ht)"
   ]
  },
  {
   "cell_type": "code",
   "execution_count": null,
   "metadata": {
    "id": "H11XPwA45A0L"
   },
   "outputs": [],
   "source": []
  },
  {
   "cell_type": "code",
   "execution_count": null,
   "metadata": {
    "id": "m63ADxEI5AoQ"
   },
   "outputs": [],
   "source": []
  },
  {
   "cell_type": "code",
   "execution_count": null,
   "metadata": {
    "id": "cBai8iedx06j"
   },
   "outputs": [],
   "source": [
    "8."
   ]
  },
  {
   "cell_type": "code",
   "execution_count": null,
   "metadata": {
    "id": "zhi6DQ00uRWK"
   },
   "outputs": [],
   "source": [
    "Mutable Datatypes\n",
    "\n",
    "\n",
    "Allows to modify values after they are created. \n",
    "1.Lists\n",
    "2.Sets\n",
    "3.Dictionaries"
   ]
  },
  {
   "cell_type": "code",
   "execution_count": null,
   "metadata": {
    "id": "3PilsMdEy-7l"
   },
   "outputs": [],
   "source": [
    "#.Lists"
   ]
  },
  {
   "cell_type": "code",
   "execution_count": 15,
   "metadata": {
    "colab": {
     "base_uri": "https://localhost:8080/"
    },
    "id": "RygMwmOcuRY0",
    "outputId": "73011676-f4f4-4171-e800-160f5d2291c6"
   },
   "outputs": [
    {
     "name": "stdout",
     "output_type": "stream",
     "text": [
      "[10, 20, 30, 40, 50, 'vishnu']\n",
      "<class 'list'>\n"
     ]
    }
   ],
   "source": [
    "l=[10,20,30,40,50,\"vishnu\"]\n",
    "print(l)\n",
    "print(type(l))"
   ]
  },
  {
   "cell_type": "code",
   "execution_count": 16,
   "metadata": {
    "colab": {
     "base_uri": "https://localhost:8080/"
    },
    "id": "kUEQEkLszkHc",
    "outputId": "bb79d929-a549-4ddf-c7fa-d7dfa8b1d064"
   },
   "outputs": [
    {
     "data": {
      "text/plain": [
       "20"
      ]
     },
     "execution_count": 16,
     "metadata": {},
     "output_type": "execute_result"
    }
   ],
   "source": [
    "l[1]"
   ]
  },
  {
   "cell_type": "code",
   "execution_count": 17,
   "metadata": {
    "id": "S3fhIxBqzkLI"
   },
   "outputs": [],
   "source": [
    "l[1]=25\n"
   ]
  },
  {
   "cell_type": "code",
   "execution_count": 18,
   "metadata": {
    "colab": {
     "base_uri": "https://localhost:8080/"
    },
    "id": "nE5DM1DTzkTz",
    "outputId": "ed7c73eb-3a9f-4e66-935c-39d5131064ed"
   },
   "outputs": [
    {
     "data": {
      "text/plain": [
       "[10, 25, 30, 40, 50, 'vishnu']"
      ]
     },
     "execution_count": 18,
     "metadata": {},
     "output_type": "execute_result"
    }
   ],
   "source": [
    "l"
   ]
  },
  {
   "cell_type": "code",
   "execution_count": 25,
   "metadata": {
    "colab": {
     "base_uri": "https://localhost:8080/"
    },
    "id": "VlCJfEtl04pS",
    "outputId": "9efdda36-c62e-4b41-ca2e-f455fdb6e8e4"
   },
   "outputs": [
    {
     "name": "stdout",
     "output_type": "stream",
     "text": [
      "[10, 25, 30, 40, 50, 'vishnu', 100]\n"
     ]
    }
   ],
   "source": [
    "l.append(100)\n",
    "print(l)"
   ]
  },
  {
   "cell_type": "code",
   "execution_count": null,
   "metadata": {
    "id": "N7EAO8o90-X3"
   },
   "outputs": [],
   "source": []
  },
  {
   "cell_type": "code",
   "execution_count": null,
   "metadata": {
    "id": "jzfVP9Dw0IPC"
   },
   "outputs": [],
   "source": [
    "#.Sets"
   ]
  },
  {
   "cell_type": "code",
   "execution_count": 20,
   "metadata": {
    "colab": {
     "base_uri": "https://localhost:8080/"
    },
    "id": "hn9pIhD80ISh",
    "outputId": "19755860-53a9-4b9b-e52c-72796b76ddda"
   },
   "outputs": [
    {
     "name": "stdout",
     "output_type": "stream",
     "text": [
      "{10, 'vishnu', 20, 30}\n",
      "<class 'set'>\n"
     ]
    }
   ],
   "source": [
    "s={10,10,20,20,30,30,\"vishnu\",\"vishnu\"}\n",
    "print(s)\n",
    "print(type(s))"
   ]
  },
  {
   "cell_type": "code",
   "execution_count": 24,
   "metadata": {
    "colab": {
     "base_uri": "https://localhost:8080/"
    },
    "id": "PyJPsZTG0IWA",
    "outputId": "31228250-7fb6-4b3e-fb30-1a9b9988a8ae"
   },
   "outputs": [
    {
     "name": "stdout",
     "output_type": "stream",
     "text": [
      "{40, 10, 'vishnu', 20, 30}\n"
     ]
    }
   ],
   "source": [
    "s.add(40)\n",
    "print(s)\n"
   ]
  },
  {
   "cell_type": "code",
   "execution_count": null,
   "metadata": {
    "id": "r_BraPWO7Wu-"
   },
   "outputs": [],
   "source": []
  },
  {
   "cell_type": "code",
   "execution_count": null,
   "metadata": {
    "id": "rp9pWVQC0IaH"
   },
   "outputs": [],
   "source": [
    "#.Dictionaries"
   ]
  },
  {
   "cell_type": "code",
   "execution_count": 26,
   "metadata": {
    "colab": {
     "base_uri": "https://localhost:8080/"
    },
    "id": "98zlTRT_0IeS",
    "outputId": "a78ed203-db74-4ac9-c8d8-664c4ef9b5cc"
   },
   "outputs": [
    {
     "name": "stdout",
     "output_type": "stream",
     "text": [
      "{'name': 'vishnu', 'age': 25, 'place': 'bangalore'}\n",
      "<class 'dict'>\n"
     ]
    }
   ],
   "source": [
    "d={\"name\":\"vishnu\",\"age\":25,\"place\":\"bangalore\"}\n",
    "print(d)\n",
    "print(type(d))"
   ]
  },
  {
   "cell_type": "code",
   "execution_count": 27,
   "metadata": {
    "colab": {
     "base_uri": "https://localhost:8080/"
    },
    "id": "L0L00duQ1C2C",
    "outputId": "084157f4-be54-49b7-ec77-ff27b06673d8"
   },
   "outputs": [
    {
     "name": "stdout",
     "output_type": "stream",
     "text": [
      "{'name': 'vishnu murali', 'age': 25, 'place': 'bangalore'}\n"
     ]
    }
   ],
   "source": [
    "d['name']='vishnu murali'\n",
    "print(d)"
   ]
  },
  {
   "cell_type": "code",
   "execution_count": null,
   "metadata": {
    "id": "HIC4o4jD1C7c"
   },
   "outputs": [],
   "source": []
  },
  {
   "cell_type": "code",
   "execution_count": null,
   "metadata": {
    "id": "O-MOWjgE19V0"
   },
   "outputs": [],
   "source": [
    "Immutable Datatypes\n",
    "1.Tuples\n",
    "\n",
    " Trying to modify a tuple will result in an error"
   ]
  },
  {
   "cell_type": "code",
   "execution_count": 29,
   "metadata": {
    "colab": {
     "base_uri": "https://localhost:8080/"
    },
    "id": "L2sdlRWP2Osg",
    "outputId": "cb1ff00a-b446-46db-e63b-4c23751264ff"
   },
   "outputs": [
    {
     "name": "stdout",
     "output_type": "stream",
     "text": [
      "(20, 30, 40, 50, 60, 70, 80, 90)\n",
      "<class 'tuple'>\n"
     ]
    }
   ],
   "source": [
    "t=(20,30,40,50,60,70,80,90)\n",
    "print(t)\n",
    "print(type(t))"
   ]
  },
  {
   "cell_type": "code",
   "execution_count": 31,
   "metadata": {
    "colab": {
     "base_uri": "https://localhost:8080/"
    },
    "id": "9icunfaU2k2-",
    "outputId": "4be7a8ea-3c8d-4e4c-8553-44a539cfcc79"
   },
   "outputs": [
    {
     "data": {
      "text/plain": [
       "30"
      ]
     },
     "execution_count": 31,
     "metadata": {},
     "output_type": "execute_result"
    }
   ],
   "source": [
    "t[1]"
   ]
  },
  {
   "cell_type": "code",
   "execution_count": 30,
   "metadata": {
    "colab": {
     "base_uri": "https://localhost:8080/",
     "height": 165
    },
    "id": "eVxt2HI72Oh7",
    "outputId": "4974bbef-a2d8-404f-c7fe-b6e226cda7a2"
   },
   "outputs": [
    {
     "ename": "TypeError",
     "evalue": "ignored",
     "output_type": "error",
     "traceback": [
      "\u001b[0;31m---------------------------------------------------------------------------\u001b[0m",
      "\u001b[0;31mTypeError\u001b[0m                                 Traceback (most recent call last)",
      "\u001b[0;32m<ipython-input-30-bdcdf88cc203>\u001b[0m in \u001b[0;36m<cell line: 1>\u001b[0;34m()\u001b[0m\n\u001b[0;32m----> 1\u001b[0;31m \u001b[0mt\u001b[0m\u001b[0;34m[\u001b[0m\u001b[0;36m1\u001b[0m\u001b[0;34m]\u001b[0m\u001b[0;34m=\u001b[0m\u001b[0;36m25\u001b[0m\u001b[0;34m\u001b[0m\u001b[0;34m\u001b[0m\u001b[0m\n\u001b[0m",
      "\u001b[0;31mTypeError\u001b[0m: 'tuple' object does not support item assignment"
     ]
    }
   ],
   "source": [
    "t[1]=25"
   ]
  },
  {
   "cell_type": "code",
   "execution_count": null,
   "metadata": {
    "id": "3Y5s1enG2tN-"
   },
   "outputs": [],
   "source": []
  },
  {
   "cell_type": "code",
   "execution_count": null,
   "metadata": {
    "id": "J3xWMfdq2s-O"
   },
   "outputs": [],
   "source": []
  },
  {
   "cell_type": "code",
   "execution_count": null,
   "metadata": {
    "id": "TDayDf_xuRb-"
   },
   "outputs": [],
   "source": [
    "9."
   ]
  },
  {
   "cell_type": "code",
   "execution_count": 3,
   "metadata": {
    "colab": {
     "base_uri": "https://localhost:8080/"
    },
    "id": "mdbiwFSduRgw",
    "outputId": "86ed8cc2-ce3d-4ace-c159-51579b90e05b"
   },
   "outputs": [
    {
     "name": "stdout",
     "output_type": "stream",
     "text": [
      "     *\n",
      "    ***\n",
      "   *****\n",
      "  *******\n",
      " *********\n"
     ]
    }
   ],
   "source": [
    "n=5\n",
    "for i in range(n):\n",
    "    for j in range(n-i):\n",
    "        print(\" \",end='')\n",
    "    for j in range(2*i+1):\n",
    "        print(\"*\",end=\"\")\n",
    "    print()"
   ]
  },
  {
   "cell_type": "code",
   "execution_count": null,
   "metadata": {
    "id": "ts3regLDvdiC"
   },
   "outputs": [],
   "source": []
  },
  {
   "cell_type": "code",
   "execution_count": null,
   "metadata": {
    "id": "tGJZq0q61hSO"
   },
   "outputs": [],
   "source": []
  },
  {
   "cell_type": "code",
   "execution_count": null,
   "metadata": {
    "id": "VBx_q677vi5C"
   },
   "outputs": [],
   "source": [
    "10."
   ]
  },
  {
   "cell_type": "code",
   "execution_count": 4,
   "metadata": {
    "colab": {
     "base_uri": "https://localhost:8080/"
    },
    "id": "hnuTMHP6vkDR",
    "outputId": "5fd76b1b-0a25-4d5e-e38a-c40c1d8e6d08"
   },
   "outputs": [
    {
     "name": "stdout",
     "output_type": "stream",
     "text": [
      "|||||||||\n",
      " |||||||\n",
      "  |||||\n",
      "   |||\n",
      "    |\n"
     ]
    }
   ],
   "source": [
    "n=5\n",
    "for i in range(n):\n",
    "    for j in range(i):\n",
    "        print(\" \",end='')\n",
    "    for j in range(2*(n-i)-1):\n",
    "        print(\"|\",end=\"\")\n",
    "    print()"
   ]
  },
  {
   "cell_type": "code",
   "execution_count": null,
   "metadata": {
    "id": "37Afh3YAvkGM"
   },
   "outputs": [],
   "source": []
  },
  {
   "cell_type": "code",
   "execution_count": null,
   "metadata": {
    "id": "sFZQleUuvkJQ"
   },
   "outputs": [],
   "source": []
  }
 ],
 "metadata": {
  "colab": {
   "provenance": []
  },
  "kernelspec": {
   "display_name": "Python 3 (ipykernel)",
   "language": "python",
   "name": "python3"
  },
  "language_info": {
   "codemirror_mode": {
    "name": "ipython",
    "version": 3
   },
   "file_extension": ".py",
   "mimetype": "text/x-python",
   "name": "python",
   "nbconvert_exporter": "python",
   "pygments_lexer": "ipython3",
   "version": "3.10.9"
  }
 },
 "nbformat": 4,
 "nbformat_minor": 1
}
