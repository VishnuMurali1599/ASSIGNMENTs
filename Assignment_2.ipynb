{
 "cells": [
  {
   "cell_type": "code",
   "execution_count": null,
   "id": "6bd1fd62",
   "metadata": {},
   "outputs": [],
   "source": [
    "24/5/23"
   ]
  },
  {
   "cell_type": "code",
   "execution_count": null,
   "id": "3bde62da",
   "metadata": {},
   "outputs": [],
   "source": [
    "1."
   ]
  },
  {
   "cell_type": "code",
   "execution_count": null,
   "id": "71deebf4",
   "metadata": {},
   "outputs": [],
   "source": [
    "'''The two values of the Boolean data type are true and false'''\n",
    "\n",
    "True\n",
    "False"
   ]
  },
  {
   "cell_type": "code",
   "execution_count": null,
   "id": "1e52542a",
   "metadata": {},
   "outputs": [],
   "source": []
  },
  {
   "cell_type": "code",
   "execution_count": null,
   "id": "6dfe1d6c",
   "metadata": {},
   "outputs": [],
   "source": [
    "2."
   ]
  },
  {
   "cell_type": "code",
   "execution_count": null,
   "id": "67fa854f",
   "metadata": {},
   "outputs": [],
   "source": [
    "Three different types of Boolean operators are;\n",
    "   and\n",
    "    not\n",
    "    or\n",
    "    "
   ]
  },
  {
   "cell_type": "code",
   "execution_count": null,
   "id": "046c11b0",
   "metadata": {},
   "outputs": [],
   "source": []
  },
  {
   "cell_type": "code",
   "execution_count": null,
   "id": "b5b0b0e2",
   "metadata": {},
   "outputs": [],
   "source": [
    "3."
   ]
  },
  {
   "cell_type": "code",
   "execution_count": null,
   "id": "645bf6f5",
   "metadata": {},
   "outputs": [],
   "source": [
    "Each Boolean operator  truth tables are:"
   ]
  },
  {
   "cell_type": "code",
   "execution_count": null,
   "id": "3df883d8",
   "metadata": {},
   "outputs": [],
   "source": [
    "True = 1\n",
    "False = 0"
   ]
  },
  {
   "cell_type": "code",
   "execution_count": null,
   "id": "8fda293b",
   "metadata": {},
   "outputs": [],
   "source": [
    "And operator\n",
    "\n",
    "False * False = False\n",
    "False * True  = False\n",
    "True  * False = False\n",
    "True  * True  = True\n",
    "\n",
    "0 * 0 = 0\n",
    "0 * 1 = 0\n",
    "1 * 0 = 0\n",
    "1 * 1 = 1\n"
   ]
  },
  {
   "cell_type": "code",
   "execution_count": null,
   "id": "06d723a5",
   "metadata": {},
   "outputs": [],
   "source": [
    "Or Operator\n",
    "\n",
    "False + False = False\n",
    "False + True  = True\n",
    "True  + False = True\n",
    "True  + True  = True\n",
    "\n",
    "\n",
    "0 + 0 = 0\n",
    "0 + 1 = 1\n",
    "1 + 0 = 1\n",
    "1 = 1 = 1"
   ]
  },
  {
   "cell_type": "code",
   "execution_count": null,
   "id": "9339cc7a",
   "metadata": {},
   "outputs": [],
   "source": [
    "Not operator\n",
    "\n",
    "\n",
    "False = True\n",
    "True  = False"
   ]
  },
  {
   "cell_type": "code",
   "execution_count": null,
   "id": "50dfef56",
   "metadata": {},
   "outputs": [],
   "source": []
  },
  {
   "cell_type": "code",
   "execution_count": null,
   "id": "3ca80738",
   "metadata": {},
   "outputs": [],
   "source": [
    "4."
   ]
  },
  {
   "cell_type": "code",
   "execution_count": 1,
   "id": "a3131873",
   "metadata": {},
   "outputs": [
    {
     "data": {
      "text/plain": [
       "False"
      ]
     },
     "execution_count": 1,
     "metadata": {},
     "output_type": "execute_result"
    }
   ],
   "source": [
    "(5>4) and (3==5)  # one of the statement is False the output we get is False"
   ]
  },
  {
   "cell_type": "code",
   "execution_count": 2,
   "id": "84cb099b",
   "metadata": {},
   "outputs": [
    {
     "data": {
      "text/plain": [
       "False"
      ]
     },
     "execution_count": 2,
     "metadata": {},
     "output_type": "execute_result"
    }
   ],
   "source": [
    "not(5>4)  # if it is True it executes false"
   ]
  },
  {
   "cell_type": "code",
   "execution_count": 3,
   "id": "a31459ed",
   "metadata": {},
   "outputs": [
    {
     "data": {
      "text/plain": [
       "True"
      ]
     },
     "execution_count": 3,
     "metadata": {},
     "output_type": "execute_result"
    }
   ],
   "source": [
    "(5 > 4) or (3 == 5)   # either one condition True"
   ]
  },
  {
   "cell_type": "code",
   "execution_count": 4,
   "id": "8f99f9c2",
   "metadata": {},
   "outputs": [
    {
     "data": {
      "text/plain": [
       "False"
      ]
     },
     "execution_count": 4,
     "metadata": {},
     "output_type": "execute_result"
    }
   ],
   "source": [
    "not ((5 > 4) or (3 == 5)) # both the statements are false"
   ]
  },
  {
   "cell_type": "code",
   "execution_count": 5,
   "id": "13dcf0da",
   "metadata": {},
   "outputs": [
    {
     "data": {
      "text/plain": [
       "False"
      ]
     },
     "execution_count": 5,
     "metadata": {},
     "output_type": "execute_result"
    }
   ],
   "source": [
    "(True and True) and (True == False)"
   ]
  },
  {
   "cell_type": "code",
   "execution_count": 6,
   "id": "886d6adb",
   "metadata": {},
   "outputs": [
    {
     "data": {
      "text/plain": [
       "False"
      ]
     },
     "execution_count": 6,
     "metadata": {},
     "output_type": "execute_result"
    }
   ],
   "source": [
    "(True == False)"
   ]
  },
  {
   "cell_type": "code",
   "execution_count": 7,
   "id": "c12c05f8",
   "metadata": {},
   "outputs": [
    {
     "data": {
      "text/plain": [
       "True"
      ]
     },
     "execution_count": 7,
     "metadata": {},
     "output_type": "execute_result"
    }
   ],
   "source": [
    "(True and True)"
   ]
  },
  {
   "cell_type": "code",
   "execution_count": 8,
   "id": "45804051",
   "metadata": {},
   "outputs": [
    {
     "data": {
      "text/plain": [
       "True"
      ]
     },
     "execution_count": 8,
     "metadata": {},
     "output_type": "execute_result"
    }
   ],
   "source": [
    "(not False) or (not True) "
   ]
  },
  {
   "cell_type": "code",
   "execution_count": null,
   "id": "df62a3a9",
   "metadata": {},
   "outputs": [],
   "source": []
  },
  {
   "cell_type": "code",
   "execution_count": null,
   "id": "e36d47c8",
   "metadata": {},
   "outputs": [],
   "source": [
    "5."
   ]
  },
  {
   "cell_type": "code",
   "execution_count": null,
   "id": "9f039c25",
   "metadata": {},
   "outputs": [],
   "source": [
    "Comparision operatrors are:\n",
    "    \n",
    "1. Equal to operators (==)\n",
    "2. Not Equal to operators (!=)\n",
    "3. Greater than (>)\n",
    "4. Less than (<)\n",
    "5. Greater than or equal to (>=)\n",
    "6. Less than or equal to (<=)\n"
   ]
  },
  {
   "cell_type": "code",
   "execution_count": null,
   "id": "981f3b00",
   "metadata": {},
   "outputs": [],
   "source": []
  },
  {
   "cell_type": "code",
   "execution_count": null,
   "id": "347f9aa2",
   "metadata": {},
   "outputs": [],
   "source": [
    "6."
   ]
  },
  {
   "cell_type": "code",
   "execution_count": null,
   "id": "422ade45",
   "metadata": {},
   "outputs": [],
   "source": [
    "Equal to operator is used to compare b/w two values and check if they are equal.\n",
    "\n",
    "Assignment Operator is used to assign a value toa variable ."
   ]
  },
  {
   "cell_type": "code",
   "execution_count": 2,
   "id": "5522c39b",
   "metadata": {},
   "outputs": [
    {
     "name": "stdout",
     "output_type": "stream",
     "text": [
      "a is not equal b : and name not found\n"
     ]
    }
   ],
   "source": [
    "a= \"vishnu\"   #ASSIGNMENT OPERATOR\n",
    "\n",
    "b= \"murali\"\n",
    "\n",
    "if a==b:      #EQUAL TO OPERATOR\n",
    "    print(\"a is equal to b\")\n",
    "else:\n",
    "    print(\"a is not equal b : and name not found\")"
   ]
  },
  {
   "cell_type": "code",
   "execution_count": null,
   "id": "1f3f3e34",
   "metadata": {},
   "outputs": [],
   "source": []
  },
  {
   "cell_type": "code",
   "execution_count": null,
   "id": "355ca911",
   "metadata": {},
   "outputs": [],
   "source": [
    "7."
   ]
  },
  {
   "cell_type": "code",
   "execution_count": 3,
   "id": "87be7042",
   "metadata": {},
   "outputs": [
    {
     "name": "stdout",
     "output_type": "stream",
     "text": [
      "ham \n",
      "spam\n",
      "spam\n"
     ]
    }
   ],
   "source": [
    "spam = 0\n",
    "if spam == 10:\n",
    "    print(\"eggs\")\n",
    "    if spam  > 5:\n",
    "        print(\"bacon\")\n",
    "else :\n",
    "    print('ham ')\n",
    "    print('spam')\n",
    "    print('spam')"
   ]
  },
  {
   "cell_type": "code",
   "execution_count": 4,
   "id": "95e64617",
   "metadata": {},
   "outputs": [
    {
     "name": "stdout",
     "output_type": "stream",
     "text": [
      "eggs\n",
      "bacon\n"
     ]
    }
   ],
   "source": [
    "spam = 10\n",
    "if spam == 10:\n",
    "    print(\"eggs\")\n",
    "    if spam  > 5:\n",
    "        print(\"bacon\")\n",
    "else :\n",
    "    print('ham ')\n",
    "    print('spam')\n",
    "    print('spam')"
   ]
  },
  {
   "cell_type": "code",
   "execution_count": null,
   "id": "b1afd06c",
   "metadata": {},
   "outputs": [],
   "source": []
  },
  {
   "cell_type": "code",
   "execution_count": null,
   "id": "33b1b34e",
   "metadata": {},
   "outputs": [],
   "source": [
    "8."
   ]
  },
  {
   "cell_type": "code",
   "execution_count": null,
   "id": "e2047ff9",
   "metadata": {},
   "outputs": [],
   "source": [
    "Write code that prints Hello if 1 is stored in spam, \n",
    "prints Howdy if 2 is stored in spam, and prints\n",
    "Greetings! if anything else is stored in spam."
   ]
  },
  {
   "cell_type": "code",
   "execution_count": 15,
   "id": "66737ffc",
   "metadata": {},
   "outputs": [
    {
     "name": "stdout",
     "output_type": "stream",
     "text": [
      "hello\n",
      "howdy\n",
      "Hi vishnu welcome to this world\n"
     ]
    }
   ],
   "source": [
    "spam=[1,2,\"vishnu\"]\n",
    "\n",
    "for i in spam:\n",
    "\n",
    "    if i==1:\n",
    "        print(\"hello\")\n",
    "    elif i==2:\n",
    "        print('howdy')\n",
    "    else:\n",
    "        print(\"Hi\",i,\"welcome to this world\")\n",
    "        "
   ]
  },
  {
   "cell_type": "code",
   "execution_count": null,
   "id": "9c3b967d",
   "metadata": {},
   "outputs": [],
   "source": []
  },
  {
   "cell_type": "code",
   "execution_count": null,
   "id": "0a626c83",
   "metadata": {},
   "outputs": [],
   "source": [
    "9."
   ]
  },
  {
   "cell_type": "code",
   "execution_count": null,
   "id": "dbde52f2",
   "metadata": {},
   "outputs": [],
   "source": [
    "If the programme is stuck in endless loop:\n",
    "    \n",
    "    1.Restart kernel\n",
    "    2.Interrupt the kernel"
   ]
  },
  {
   "cell_type": "code",
   "execution_count": null,
   "id": "6264c893",
   "metadata": {},
   "outputs": [],
   "source": []
  },
  {
   "cell_type": "code",
   "execution_count": null,
   "id": "719f2608",
   "metadata": {},
   "outputs": [],
   "source": [
    "10."
   ]
  },
  {
   "cell_type": "code",
   "execution_count": null,
   "id": "e939e979",
   "metadata": {},
   "outputs": [],
   "source": [
    "Break Statement:\n",
    "    A break statement ios used to terminate the loop whenever a particular condition is satisfied\n",
    "    "
   ]
  },
  {
   "cell_type": "code",
   "execution_count": 19,
   "id": "f4b6ca91",
   "metadata": {},
   "outputs": [
    {
     "name": "stdout",
     "output_type": "stream",
     "text": [
      "10\n",
      "20\n",
      "30\n",
      "40\n",
      "50\n"
     ]
    }
   ],
   "source": [
    "a=[10,20,30,40,50,60,10,\"vishnu\"]\n",
    "\n",
    "for i in a:\n",
    "    if i==60:\n",
    "        break\n",
    "    print(i)"
   ]
  },
  {
   "cell_type": "code",
   "execution_count": null,
   "id": "d4ac309f",
   "metadata": {},
   "outputs": [],
   "source": [
    "Continue Statement:\n",
    "    The continue statement skips the remaining lines of code, for the current iteration of the loop.\n",
    "    \n",
    "    "
   ]
  },
  {
   "cell_type": "code",
   "execution_count": 20,
   "id": "74c6aa8e",
   "metadata": {},
   "outputs": [
    {
     "name": "stdout",
     "output_type": "stream",
     "text": [
      "10\n",
      "20\n",
      "30\n",
      "40\n",
      "50\n",
      "61\n",
      "475\n",
      "vishnu\n",
      "murali\n"
     ]
    }
   ],
   "source": [
    "b=[10,20,30,40,50,60,61,475,\"vishnu\",'murali']\n",
    "\n",
    "for i in b:\n",
    "    if i==60:\n",
    "        continue\n",
    "    print(i)"
   ]
  },
  {
   "cell_type": "code",
   "execution_count": null,
   "id": "bab5c254",
   "metadata": {},
   "outputs": [],
   "source": []
  },
  {
   "cell_type": "code",
   "execution_count": null,
   "id": "03087fb0",
   "metadata": {},
   "outputs": [],
   "source": [
    "11."
   ]
  },
  {
   "cell_type": "code",
   "execution_count": null,
   "id": "fc2d98be",
   "metadata": {},
   "outputs": [],
   "source": [
    "'''\n",
    "In a for loop the range(10), range(0, 10), and range(0, 10, 1) are same we get \n",
    "the range values from 1-10  '''"
   ]
  },
  {
   "cell_type": "code",
   "execution_count": 21,
   "id": "9af56b83",
   "metadata": {},
   "outputs": [
    {
     "name": "stdout",
     "output_type": "stream",
     "text": [
      "0\n",
      "1\n",
      "2\n",
      "3\n",
      "4\n",
      "5\n",
      "6\n",
      "7\n",
      "8\n",
      "9\n"
     ]
    }
   ],
   "source": [
    "for i in range(10): #it intially take value from zero even if we dont provide the value\n",
    "    print(i)"
   ]
  },
  {
   "cell_type": "code",
   "execution_count": 22,
   "id": "30cf35f5",
   "metadata": {},
   "outputs": [
    {
     "name": "stdout",
     "output_type": "stream",
     "text": [
      "0\n",
      "1\n",
      "2\n",
      "3\n",
      "4\n",
      "5\n",
      "6\n",
      "7\n",
      "8\n",
      "9\n"
     ]
    }
   ],
   "source": [
    "for i in range(0,10):\n",
    "    print(i)"
   ]
  },
  {
   "cell_type": "code",
   "execution_count": 23,
   "id": "bfea25ce",
   "metadata": {},
   "outputs": [
    {
     "name": "stdout",
     "output_type": "stream",
     "text": [
      "0\n",
      "1\n",
      "2\n",
      "3\n",
      "4\n",
      "5\n",
      "6\n",
      "7\n",
      "8\n",
      "9\n"
     ]
    }
   ],
   "source": [
    "for i in range(0,10,1):\n",
    "    print(i)"
   ]
  },
  {
   "cell_type": "code",
   "execution_count": null,
   "id": "424a9c89",
   "metadata": {},
   "outputs": [],
   "source": []
  },
  {
   "cell_type": "code",
   "execution_count": null,
   "id": "da8d9116",
   "metadata": {},
   "outputs": [],
   "source": [
    "12."
   ]
  },
  {
   "cell_type": "code",
   "execution_count": 24,
   "id": "938381e0",
   "metadata": {},
   "outputs": [
    {
     "name": "stdout",
     "output_type": "stream",
     "text": [
      "1\n",
      "2\n",
      "3\n",
      "4\n",
      "5\n",
      "6\n",
      "7\n",
      "8\n",
      "9\n",
      "10\n"
     ]
    }
   ],
   "source": [
    "for i in range(1,11):\n",
    "    print(i)"
   ]
  },
  {
   "cell_type": "code",
   "execution_count": 28,
   "id": "e116911c",
   "metadata": {},
   "outputs": [
    {
     "name": "stdout",
     "output_type": "stream",
     "text": [
      "1\n",
      "2\n",
      "3\n",
      "4\n",
      "5\n",
      "6\n",
      "7\n",
      "8\n",
      "9\n",
      "10\n"
     ]
    }
   ],
   "source": [
    "i=1\n",
    "\n",
    "while i <11:\n",
    "    print(i)\n",
    "    i=i+1"
   ]
  },
  {
   "cell_type": "code",
   "execution_count": null,
   "id": "9875f690",
   "metadata": {},
   "outputs": [],
   "source": []
  },
  {
   "cell_type": "code",
   "execution_count": null,
   "id": "610d78cd",
   "metadata": {},
   "outputs": [],
   "source": [
    "13."
   ]
  },
  {
   "cell_type": "code",
   "execution_count": null,
   "id": "e474313d",
   "metadata": {},
   "outputs": [],
   "source": [
    "import spam\n",
    "\n",
    "def bacon():\n",
    "    pass"
   ]
  }
 ],
 "metadata": {
  "kernelspec": {
   "display_name": "Python 3 (ipykernel)",
   "language": "python",
   "name": "python3"
  },
  "language_info": {
   "codemirror_mode": {
    "name": "ipython",
    "version": 3
   },
   "file_extension": ".py",
   "mimetype": "text/x-python",
   "name": "python",
   "nbconvert_exporter": "python",
   "pygments_lexer": "ipython3",
   "version": "3.10.9"
  }
 },
 "nbformat": 4,
 "nbformat_minor": 5
}
