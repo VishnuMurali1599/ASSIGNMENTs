{
 "cells": [
  {
   "cell_type": "code",
   "execution_count": null,
   "id": "d173440f",
   "metadata": {},
   "outputs": [],
   "source": [
    "30/5/23"
   ]
  },
  {
   "cell_type": "code",
   "execution_count": null,
   "id": "9c97ae04",
   "metadata": {},
   "outputs": [],
   "source": []
  },
  {
   "cell_type": "markdown",
   "id": "f61508a5",
   "metadata": {},
   "source": [
    "                     Python Basic 2"
   ]
  },
  {
   "cell_type": "code",
   "execution_count": null,
   "id": "698f1b35",
   "metadata": {},
   "outputs": [],
   "source": []
  },
  {
   "cell_type": "code",
   "execution_count": null,
   "id": "e73e936e",
   "metadata": {},
   "outputs": [],
   "source": [
    "1."
   ]
  },
  {
   "cell_type": "code",
   "execution_count": 2,
   "id": "89585e27",
   "metadata": {},
   "outputs": [],
   "source": [
    "a=50"
   ]
  },
  {
   "cell_type": "code",
   "execution_count": 3,
   "id": "5800e795",
   "metadata": {},
   "outputs": [],
   "source": [
    "b=25"
   ]
  },
  {
   "cell_type": "code",
   "execution_count": 4,
   "id": "eda173a5",
   "metadata": {},
   "outputs": [
    {
     "name": "stdout",
     "output_type": "stream",
     "text": [
      "75\n"
     ]
    }
   ],
   "source": [
    "Addition=a+b\n",
    "print(Addition)"
   ]
  },
  {
   "cell_type": "code",
   "execution_count": 5,
   "id": "9d593f20",
   "metadata": {},
   "outputs": [
    {
     "name": "stdout",
     "output_type": "stream",
     "text": [
      "25\n"
     ]
    }
   ],
   "source": [
    "Subraction = a-b\n",
    "print(Subraction)"
   ]
  },
  {
   "cell_type": "code",
   "execution_count": 6,
   "id": "22741a25",
   "metadata": {},
   "outputs": [
    {
     "name": "stdout",
     "output_type": "stream",
     "text": [
      "1250\n"
     ]
    }
   ],
   "source": [
    "Multiplication = a*b\n",
    "print(Multiplication)"
   ]
  },
  {
   "cell_type": "code",
   "execution_count": 7,
   "id": "12052cf4",
   "metadata": {},
   "outputs": [
    {
     "name": "stdout",
     "output_type": "stream",
     "text": [
      "2.0\n"
     ]
    }
   ],
   "source": [
    "Division = a/b\n",
    "print(Division)"
   ]
  },
  {
   "cell_type": "code",
   "execution_count": null,
   "id": "373c20b7",
   "metadata": {},
   "outputs": [],
   "source": []
  },
  {
   "cell_type": "code",
   "execution_count": null,
   "id": "c138a60a",
   "metadata": {},
   "outputs": [],
   "source": []
  },
  {
   "cell_type": "code",
   "execution_count": null,
   "id": "da31f92b",
   "metadata": {},
   "outputs": [],
   "source": [
    "2."
   ]
  },
  {
   "cell_type": "code",
   "execution_count": null,
   "id": "6be8c34f",
   "metadata": {},
   "outputs": [],
   "source": [
    "(i)"
   ]
  },
  {
   "cell_type": "code",
   "execution_count": 14,
   "id": "a0011704",
   "metadata": {},
   "outputs": [
    {
     "data": {
      "text/plain": [
       "2.0"
      ]
     },
     "execution_count": 14,
     "metadata": {},
     "output_type": "execute_result"
    }
   ],
   "source": [
    "20/10       #Division"
   ]
  },
  {
   "cell_type": "code",
   "execution_count": null,
   "id": "0d147654",
   "metadata": {},
   "outputs": [],
   "source": [
    "Division operator is used to divide two values ."
   ]
  },
  {
   "cell_type": "code",
   "execution_count": 15,
   "id": "82d9988c",
   "metadata": {},
   "outputs": [
    {
     "data": {
      "text/plain": [
       "4"
      ]
     },
     "execution_count": 15,
     "metadata": {},
     "output_type": "execute_result"
    }
   ],
   "source": [
    "100//23     #Floor Division"
   ]
  },
  {
   "cell_type": "code",
   "execution_count": null,
   "id": "331c9bc7",
   "metadata": {},
   "outputs": [],
   "source": [
    "Floor Division  is used to divide two numbers and rounds the outcome down to the nearest integer."
   ]
  },
  {
   "cell_type": "code",
   "execution_count": null,
   "id": "f452ba4e",
   "metadata": {},
   "outputs": [],
   "source": []
  },
  {
   "cell_type": "code",
   "execution_count": null,
   "id": "1b78783f",
   "metadata": {},
   "outputs": [],
   "source": [
    "(ii)"
   ]
  },
  {
   "cell_type": "code",
   "execution_count": 19,
   "id": "0ca450b0",
   "metadata": {},
   "outputs": [],
   "source": [
    "a=5      "
   ]
  },
  {
   "cell_type": "code",
   "execution_count": 18,
   "id": "b2035e93",
   "metadata": {},
   "outputs": [],
   "source": [
    "b=2"
   ]
  },
  {
   "cell_type": "code",
   "execution_count": 20,
   "id": "86708af2",
   "metadata": {},
   "outputs": [
    {
     "data": {
      "text/plain": [
       "25"
      ]
     },
     "execution_count": 20,
     "metadata": {},
     "output_type": "execute_result"
    }
   ],
   "source": [
    "a**b         #Exponent"
   ]
  },
  {
   "cell_type": "code",
   "execution_count": null,
   "id": "6ac52673",
   "metadata": {},
   "outputs": [],
   "source": []
  },
  {
   "cell_type": "code",
   "execution_count": null,
   "id": "f81fbbb9",
   "metadata": {},
   "outputs": [],
   "source": [
    "#XOR Operator\n",
    "'''Compares each bit of the first operand \n",
    "     with the corresponding bit of the \n",
    "second operand. If one of the bits is 1 \n",
    "(but not both), the corresponding result \n",
    "    bit is set to 1. Otherwise, \n",
    "the result bit is set to 0'''"
   ]
  },
  {
   "cell_type": "code",
   "execution_count": 21,
   "id": "e0566b57",
   "metadata": {},
   "outputs": [
    {
     "name": "stdout",
     "output_type": "stream",
     "text": [
      "7\n"
     ]
    }
   ],
   "source": [
    "a=5              \n",
    "b=2\n",
    "result=a^b            #Xor operator\n",
    "print(result)"
   ]
  },
  {
   "cell_type": "code",
   "execution_count": 22,
   "id": "a13621f3",
   "metadata": {},
   "outputs": [
    {
     "data": {
      "text/plain": [
       "'0b101'"
      ]
     },
     "execution_count": 22,
     "metadata": {},
     "output_type": "execute_result"
    }
   ],
   "source": [
    "bin(5)"
   ]
  },
  {
   "cell_type": "code",
   "execution_count": 23,
   "id": "76cb3cef",
   "metadata": {},
   "outputs": [
    {
     "data": {
      "text/plain": [
       "'0b10'"
      ]
     },
     "execution_count": 23,
     "metadata": {},
     "output_type": "execute_result"
    }
   ],
   "source": [
    "bin(2)"
   ]
  },
  {
   "cell_type": "code",
   "execution_count": null,
   "id": "7c148e54",
   "metadata": {},
   "outputs": [],
   "source": [
    "101\n",
    "010\n",
    ".....\n",
    "111\n",
    "\n",
    "1*2^2+1*2^1+1*2^0\n",
    "4+2+1\n",
    "=7\n"
   ]
  },
  {
   "cell_type": "code",
   "execution_count": null,
   "id": "1eaacba5",
   "metadata": {},
   "outputs": [],
   "source": []
  },
  {
   "cell_type": "code",
   "execution_count": null,
   "id": "c5613e0f",
   "metadata": {},
   "outputs": [],
   "source": []
  },
  {
   "cell_type": "code",
   "execution_count": null,
   "id": "72299700",
   "metadata": {},
   "outputs": [],
   "source": [
    "3."
   ]
  },
  {
   "cell_type": "code",
   "execution_count": null,
   "id": "7d833dec",
   "metadata": {},
   "outputs": [],
   "source": [
    "Logical Operator"
   ]
  },
  {
   "cell_type": "code",
   "execution_count": null,
   "id": "4da57717",
   "metadata": {},
   "outputs": [],
   "source": [
    "a.OR operator"
   ]
  },
  {
   "cell_type": "code",
   "execution_count": null,
   "id": "0fd3ef49",
   "metadata": {},
   "outputs": [],
   "source": [
    "True=1\n",
    "False=0"
   ]
  },
  {
   "cell_type": "code",
   "execution_count": null,
   "id": "0954a2e6",
   "metadata": {},
   "outputs": [],
   "source": [
    "#0r\n",
    "\n",
    "1 0 1\n",
    "0 1 1\n",
    "1 1 1\n",
    "0 0 0"
   ]
  },
  {
   "cell_type": "code",
   "execution_count": null,
   "id": "12fbaaa0",
   "metadata": {},
   "outputs": [],
   "source": [
    "b.AND operator"
   ]
  },
  {
   "cell_type": "code",
   "execution_count": null,
   "id": "057e4f0a",
   "metadata": {},
   "outputs": [],
   "source": [
    "#And"
   ]
  },
  {
   "cell_type": "code",
   "execution_count": null,
   "id": "61eaf0d5",
   "metadata": {},
   "outputs": [],
   "source": [
    "1 0 0\n",
    "0 1 0\n",
    "1 1 1\n",
    "0 0 0"
   ]
  },
  {
   "cell_type": "code",
   "execution_count": null,
   "id": "f0018409",
   "metadata": {},
   "outputs": [],
   "source": [
    "c.Not operator"
   ]
  },
  {
   "cell_type": "code",
   "execution_count": null,
   "id": "e1802be0",
   "metadata": {},
   "outputs": [],
   "source": [
    "a=True\n",
    "result =False\n",
    "\n",
    "b=False\n",
    "result= True"
   ]
  },
  {
   "cell_type": "code",
   "execution_count": null,
   "id": "0008694b",
   "metadata": {},
   "outputs": [],
   "source": []
  },
  {
   "cell_type": "code",
   "execution_count": null,
   "id": "b063d4f0",
   "metadata": {},
   "outputs": [],
   "source": []
  },
  {
   "cell_type": "code",
   "execution_count": null,
   "id": "d1ee973b",
   "metadata": {},
   "outputs": [],
   "source": [
    "4."
   ]
  },
  {
   "cell_type": "code",
   "execution_count": null,
   "id": "ef0e132b",
   "metadata": {},
   "outputs": [],
   "source": [
    ">>\n",
    "'''Right Shift Operator >>: Shifts the bits of the number to the \n",
    "right by the number of bits specified. Each shift\n",
    "to the right corresponds to dividing the number by 2.'''"
   ]
  },
  {
   "cell_type": "code",
   "execution_count": 24,
   "id": "c53e4051",
   "metadata": {},
   "outputs": [
    {
     "name": "stdout",
     "output_type": "stream",
     "text": [
      "2\n"
     ]
    }
   ],
   "source": [
    "a=10\n",
    "result=a>>2\n",
    "print(result)"
   ]
  },
  {
   "cell_type": "code",
   "execution_count": 25,
   "id": "da52c324",
   "metadata": {},
   "outputs": [
    {
     "data": {
      "text/plain": [
       "'0b1010'"
      ]
     },
     "execution_count": 25,
     "metadata": {},
     "output_type": "execute_result"
    }
   ],
   "source": [
    "bin(10)"
   ]
  },
  {
   "cell_type": "code",
   "execution_count": null,
   "id": "8a9878bd",
   "metadata": {},
   "outputs": [],
   "source": [
    "1010"
   ]
  },
  {
   "cell_type": "code",
   "execution_count": null,
   "id": "c857717f",
   "metadata": {},
   "outputs": [],
   "source": [
    "#0010"
   ]
  },
  {
   "cell_type": "code",
   "execution_count": 26,
   "id": "523060ec",
   "metadata": {},
   "outputs": [
    {
     "name": "stdout",
     "output_type": "stream",
     "text": [
      "6\n"
     ]
    }
   ],
   "source": [
    "a=50\n",
    "result=a>>3\n",
    "print(result)"
   ]
  },
  {
   "cell_type": "code",
   "execution_count": 27,
   "id": "860670bb",
   "metadata": {},
   "outputs": [
    {
     "data": {
      "text/plain": [
       "'0b110010'"
      ]
     },
     "execution_count": 27,
     "metadata": {},
     "output_type": "execute_result"
    }
   ],
   "source": [
    "bin(50)"
   ]
  },
  {
   "cell_type": "code",
   "execution_count": null,
   "id": "55690f36",
   "metadata": {},
   "outputs": [],
   "source": [
    "110010  #after right shift of 3 we get 110"
   ]
  },
  {
   "cell_type": "code",
   "execution_count": null,
   "id": "17137404",
   "metadata": {},
   "outputs": [],
   "source": [
    "1*2^2+1*2^1+0\n",
    "4+2\n",
    "6"
   ]
  },
  {
   "cell_type": "code",
   "execution_count": null,
   "id": "3c63c2b5",
   "metadata": {},
   "outputs": [],
   "source": [
    "<<\n",
    "'''Left Shift Operator <<: Shifts the bits of \n",
    "the number to the left by the number of bits \n",
    "specified. Each shift to the left corresponds to \n",
    "multiplying the number by 2'''"
   ]
  },
  {
   "cell_type": "code",
   "execution_count": 28,
   "id": "1e6e3708",
   "metadata": {},
   "outputs": [
    {
     "name": "stdout",
     "output_type": "stream",
     "text": [
      "40\n"
     ]
    }
   ],
   "source": [
    "a=10\n",
    "result=a<<2\n",
    "print(result)"
   ]
  },
  {
   "cell_type": "code",
   "execution_count": 30,
   "id": "06a4d861",
   "metadata": {},
   "outputs": [
    {
     "data": {
      "text/plain": [
       "'0b101000'"
      ]
     },
     "execution_count": 30,
     "metadata": {},
     "output_type": "execute_result"
    }
   ],
   "source": [
    "bin(10)"
   ]
  },
  {
   "cell_type": "code",
   "execution_count": null,
   "id": "1c72b0d2",
   "metadata": {},
   "outputs": [],
   "source": [
    "101000"
   ]
  },
  {
   "cell_type": "code",
   "execution_count": null,
   "id": "2e3e18ec",
   "metadata": {},
   "outputs": [],
   "source": [
    "0*2^0+0*2^1+0*2^2+1*2^3+0*2^4+1*2^5\n",
    "0+0+0+8+0+32\n",
    "40"
   ]
  },
  {
   "cell_type": "code",
   "execution_count": null,
   "id": "31bd91ae",
   "metadata": {},
   "outputs": [],
   "source": []
  },
  {
   "cell_type": "code",
   "execution_count": null,
   "id": "4efd9b64",
   "metadata": {},
   "outputs": [],
   "source": []
  },
  {
   "cell_type": "code",
   "execution_count": null,
   "id": "096b819f",
   "metadata": {},
   "outputs": [],
   "source": [
    "5."
   ]
  },
  {
   "cell_type": "code",
   "execution_count": 31,
   "id": "d9a7ce9d",
   "metadata": {},
   "outputs": [
    {
     "name": "stdout",
     "output_type": "stream",
     "text": [
      "[1, 2, 3, 4, 5, 6, 7, 8, 9, 10, 11, 12, 13, 14, 15]\n"
     ]
    }
   ],
   "source": [
    "l=[1,2,3,4,5,6,7,8,9,10,11,12,13,14,15]\n",
    "print(l)"
   ]
  },
  {
   "cell_type": "code",
   "execution_count": 32,
   "id": "023075ff",
   "metadata": {},
   "outputs": [
    {
     "data": {
      "text/plain": [
       "list"
      ]
     },
     "execution_count": 32,
     "metadata": {},
     "output_type": "execute_result"
    }
   ],
   "source": [
    "type(l)"
   ]
  },
  {
   "cell_type": "code",
   "execution_count": 34,
   "id": "f7f9eb45",
   "metadata": {},
   "outputs": [
    {
     "data": {
      "text/plain": [
       "15"
      ]
     },
     "execution_count": 34,
     "metadata": {},
     "output_type": "execute_result"
    }
   ],
   "source": [
    "len(l)"
   ]
  },
  {
   "cell_type": "code",
   "execution_count": 35,
   "id": "1f0135ff",
   "metadata": {},
   "outputs": [
    {
     "data": {
      "text/plain": [
       "True"
      ]
     },
     "execution_count": 35,
     "metadata": {},
     "output_type": "execute_result"
    }
   ],
   "source": [
    "10 in l"
   ]
  },
  {
   "cell_type": "code",
   "execution_count": null,
   "id": "a6dc87f6",
   "metadata": {},
   "outputs": [],
   "source": []
  }
 ],
 "metadata": {
  "kernelspec": {
   "display_name": "Python 3 (ipykernel)",
   "language": "python",
   "name": "python3"
  },
  "language_info": {
   "codemirror_mode": {
    "name": "ipython",
    "version": 3
   },
   "file_extension": ".py",
   "mimetype": "text/x-python",
   "name": "python",
   "nbconvert_exporter": "python",
   "pygments_lexer": "ipython3",
   "version": "3.10.9"
  }
 },
 "nbformat": 4,
 "nbformat_minor": 5
}
