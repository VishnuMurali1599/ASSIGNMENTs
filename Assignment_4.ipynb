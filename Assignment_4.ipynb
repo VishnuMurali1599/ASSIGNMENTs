{
 "cells": [
  {
   "cell_type": "code",
   "execution_count": null,
   "id": "76b9a316",
   "metadata": {},
   "outputs": [],
   "source": [
    "25/5/23"
   ]
  },
  {
   "cell_type": "code",
   "execution_count": null,
   "id": "619ffef1",
   "metadata": {},
   "outputs": [],
   "source": []
  },
  {
   "cell_type": "code",
   "execution_count": null,
   "id": "09187692",
   "metadata": {},
   "outputs": [],
   "source": [
    "1."
   ]
  },
  {
   "cell_type": "code",
   "execution_count": 3,
   "id": "4587656f",
   "metadata": {},
   "outputs": [],
   "source": [
    "a=[]"
   ]
  },
  {
   "cell_type": "code",
   "execution_count": null,
   "id": "8d76c67b",
   "metadata": {},
   "outputs": [],
   "source": [
    "#empty list"
   ]
  },
  {
   "cell_type": "code",
   "execution_count": null,
   "id": "202da2cd",
   "metadata": {},
   "outputs": [],
   "source": []
  },
  {
   "cell_type": "code",
   "execution_count": null,
   "id": "73c90b61",
   "metadata": {},
   "outputs": [],
   "source": []
  },
  {
   "cell_type": "code",
   "execution_count": null,
   "id": "1658cba5",
   "metadata": {},
   "outputs": [],
   "source": [
    "2."
   ]
  },
  {
   "cell_type": "code",
   "execution_count": 9,
   "id": "9f558bbd",
   "metadata": {},
   "outputs": [],
   "source": [
    "spam=[2,4,6,8,10]"
   ]
  },
  {
   "cell_type": "code",
   "execution_count": 10,
   "id": "ba71b66d",
   "metadata": {},
   "outputs": [],
   "source": [
    "spam[3]='hello'"
   ]
  },
  {
   "cell_type": "code",
   "execution_count": 11,
   "id": "082e713d",
   "metadata": {},
   "outputs": [
    {
     "data": {
      "text/plain": [
       "[2, 4, 6, 'hello', 10]"
      ]
     },
     "execution_count": 11,
     "metadata": {},
     "output_type": "execute_result"
    }
   ],
   "source": [
    "spam"
   ]
  },
  {
   "cell_type": "code",
   "execution_count": null,
   "id": "d25db6f4",
   "metadata": {},
   "outputs": [],
   "source": []
  },
  {
   "cell_type": "code",
   "execution_count": null,
   "id": "e66ab827",
   "metadata": {},
   "outputs": [],
   "source": []
  },
  {
   "cell_type": "code",
   "execution_count": 21,
   "id": "ec43752d",
   "metadata": {},
   "outputs": [],
   "source": [
    "spam=['a','b','c','d']"
   ]
  },
  {
   "cell_type": "code",
   "execution_count": null,
   "id": "33d0c583",
   "metadata": {},
   "outputs": [],
   "source": [
    "3."
   ]
  },
  {
   "cell_type": "code",
   "execution_count": 22,
   "id": "250b545d",
   "metadata": {},
   "outputs": [
    {
     "data": {
      "text/plain": [
       "'d'"
      ]
     },
     "execution_count": 22,
     "metadata": {},
     "output_type": "execute_result"
    }
   ],
   "source": [
    "spam[int(int('3'*2)/11)]"
   ]
  },
  {
   "cell_type": "code",
   "execution_count": null,
   "id": "eb4b8b52",
   "metadata": {},
   "outputs": [],
   "source": []
  },
  {
   "cell_type": "code",
   "execution_count": null,
   "id": "6d96bff2",
   "metadata": {},
   "outputs": [],
   "source": [
    "4."
   ]
  },
  {
   "cell_type": "code",
   "execution_count": 23,
   "id": "92bcf981",
   "metadata": {},
   "outputs": [
    {
     "data": {
      "text/plain": [
       "'d'"
      ]
     },
     "execution_count": 23,
     "metadata": {},
     "output_type": "execute_result"
    }
   ],
   "source": [
    "spam[-1]"
   ]
  },
  {
   "cell_type": "code",
   "execution_count": null,
   "id": "91efddfa",
   "metadata": {},
   "outputs": [],
   "source": []
  },
  {
   "cell_type": "code",
   "execution_count": null,
   "id": "8a255a46",
   "metadata": {},
   "outputs": [],
   "source": [
    "5."
   ]
  },
  {
   "cell_type": "code",
   "execution_count": 24,
   "id": "ccef7b78",
   "metadata": {},
   "outputs": [
    {
     "data": {
      "text/plain": [
       "['a', 'b']"
      ]
     },
     "execution_count": 24,
     "metadata": {},
     "output_type": "execute_result"
    }
   ],
   "source": [
    "spam[:2]"
   ]
  },
  {
   "cell_type": "code",
   "execution_count": null,
   "id": "9fa75cf3",
   "metadata": {},
   "outputs": [],
   "source": []
  },
  {
   "cell_type": "code",
   "execution_count": null,
   "id": "e6e9c38a",
   "metadata": {},
   "outputs": [],
   "source": []
  },
  {
   "cell_type": "code",
   "execution_count": 15,
   "id": "11791b27",
   "metadata": {},
   "outputs": [],
   "source": [
    "bacon=[3.14,'car',11,'cat',True]"
   ]
  },
  {
   "cell_type": "code",
   "execution_count": null,
   "id": "3fa5801f",
   "metadata": {},
   "outputs": [],
   "source": [
    "6."
   ]
  },
  {
   "cell_type": "code",
   "execution_count": 16,
   "id": "9ad85c0c",
   "metadata": {},
   "outputs": [
    {
     "data": {
      "text/plain": [
       "3"
      ]
     },
     "execution_count": 16,
     "metadata": {},
     "output_type": "execute_result"
    }
   ],
   "source": [
    "bacon.index('cat')"
   ]
  },
  {
   "cell_type": "code",
   "execution_count": null,
   "id": "5157b887",
   "metadata": {},
   "outputs": [],
   "source": []
  },
  {
   "cell_type": "code",
   "execution_count": null,
   "id": "97c98533",
   "metadata": {},
   "outputs": [],
   "source": [
    "7."
   ]
  },
  {
   "cell_type": "code",
   "execution_count": 18,
   "id": "b87065a7",
   "metadata": {},
   "outputs": [],
   "source": [
    "bacon.append(99)"
   ]
  },
  {
   "cell_type": "code",
   "execution_count": 19,
   "id": "616a88ca",
   "metadata": {},
   "outputs": [
    {
     "data": {
      "text/plain": [
       "[3.14, 'car', 11, 'cat', True, 99]"
      ]
     },
     "execution_count": 19,
     "metadata": {},
     "output_type": "execute_result"
    }
   ],
   "source": [
    "bacon"
   ]
  },
  {
   "cell_type": "code",
   "execution_count": null,
   "id": "e95f2c84",
   "metadata": {},
   "outputs": [],
   "source": []
  },
  {
   "cell_type": "code",
   "execution_count": null,
   "id": "aeb5f2b3",
   "metadata": {},
   "outputs": [],
   "source": [
    "8."
   ]
  },
  {
   "cell_type": "code",
   "execution_count": 20,
   "id": "8323e6bc",
   "metadata": {},
   "outputs": [],
   "source": [
    "bacon.remove('cat')"
   ]
  },
  {
   "cell_type": "code",
   "execution_count": 21,
   "id": "bc4003fb",
   "metadata": {},
   "outputs": [
    {
     "data": {
      "text/plain": [
       "[3.14, 'car', 11, True, 99]"
      ]
     },
     "execution_count": 21,
     "metadata": {},
     "output_type": "execute_result"
    }
   ],
   "source": [
    "bacon"
   ]
  },
  {
   "cell_type": "code",
   "execution_count": null,
   "id": "b75eae47",
   "metadata": {},
   "outputs": [],
   "source": []
  },
  {
   "cell_type": "code",
   "execution_count": null,
   "id": "375f2b6e",
   "metadata": {},
   "outputs": [],
   "source": []
  },
  {
   "cell_type": "code",
   "execution_count": null,
   "id": "d8ad0db0",
   "metadata": {},
   "outputs": [],
   "source": [
    "9."
   ]
  },
  {
   "cell_type": "code",
   "execution_count": 22,
   "id": "c00bfd1e",
   "metadata": {},
   "outputs": [],
   "source": [
    "'''Concatenation\n",
    "\n",
    "\n",
    "Concatenation of lists is an operation where the elements of one list are added at the end of another.'''\n",
    "\n",
    "l1=[10,20,30,40,50]\n",
    "l2=[40,50,60,70]\n",
    "\n",
    "l3=l1+l2"
   ]
  },
  {
   "cell_type": "code",
   "execution_count": 23,
   "id": "fa7180b5",
   "metadata": {},
   "outputs": [
    {
     "data": {
      "text/plain": [
       "[10, 20, 30, 40, 50, 40, 50, 60, 70]"
      ]
     },
     "execution_count": 23,
     "metadata": {},
     "output_type": "execute_result"
    }
   ],
   "source": [
    "l3"
   ]
  },
  {
   "cell_type": "code",
   "execution_count": 24,
   "id": "125cb0f1",
   "metadata": {},
   "outputs": [],
   "source": [
    "'''Replication\n",
    "\n",
    "Replicaton is the process in which the element of one list is repated again and agian\n",
    " \n",
    "'''\n",
    "l=[10,20,30,40,5,60]"
   ]
  },
  {
   "cell_type": "code",
   "execution_count": 25,
   "id": "56bfbb54",
   "metadata": {},
   "outputs": [],
   "source": [
    "l1=l*4"
   ]
  },
  {
   "cell_type": "code",
   "execution_count": 26,
   "id": "018517ae",
   "metadata": {},
   "outputs": [
    {
     "data": {
      "text/plain": [
       "[10,\n",
       " 20,\n",
       " 30,\n",
       " 40,\n",
       " 5,\n",
       " 60,\n",
       " 10,\n",
       " 20,\n",
       " 30,\n",
       " 40,\n",
       " 5,\n",
       " 60,\n",
       " 10,\n",
       " 20,\n",
       " 30,\n",
       " 40,\n",
       " 5,\n",
       " 60,\n",
       " 10,\n",
       " 20,\n",
       " 30,\n",
       " 40,\n",
       " 5,\n",
       " 60]"
      ]
     },
     "execution_count": 26,
     "metadata": {},
     "output_type": "execute_result"
    }
   ],
   "source": [
    "l1"
   ]
  },
  {
   "cell_type": "code",
   "execution_count": null,
   "id": "d4f05574",
   "metadata": {},
   "outputs": [],
   "source": []
  },
  {
   "cell_type": "code",
   "execution_count": null,
   "id": "befab46e",
   "metadata": {},
   "outputs": [],
   "source": []
  },
  {
   "cell_type": "code",
   "execution_count": null,
   "id": "323dfda5",
   "metadata": {},
   "outputs": [],
   "source": [
    "10."
   ]
  },
  {
   "cell_type": "code",
   "execution_count": 27,
   "id": "2cb46165",
   "metadata": {},
   "outputs": [],
   "source": [
    "l=[10,20,30,100,\"vishnu\"]"
   ]
  },
  {
   "cell_type": "code",
   "execution_count": 28,
   "id": "587f3214",
   "metadata": {},
   "outputs": [],
   "source": [
    "l.append(20)"
   ]
  },
  {
   "cell_type": "code",
   "execution_count": 29,
   "id": "d2a69ded",
   "metadata": {},
   "outputs": [
    {
     "data": {
      "text/plain": [
       "[10, 20, 30, 100, 'vishnu', 20]"
      ]
     },
     "execution_count": 29,
     "metadata": {},
     "output_type": "execute_result"
    }
   ],
   "source": [
    "l"
   ]
  },
  {
   "cell_type": "code",
   "execution_count": null,
   "id": "123c6a02",
   "metadata": {},
   "outputs": [],
   "source": [
    "'''Append function is used to add element at the end of list'''"
   ]
  },
  {
   "cell_type": "code",
   "execution_count": null,
   "id": "4d9295ec",
   "metadata": {},
   "outputs": [],
   "source": []
  },
  {
   "cell_type": "code",
   "execution_count": 30,
   "id": "64533a48",
   "metadata": {},
   "outputs": [
    {
     "data": {
      "text/plain": [
       "[10, 20, 30, 100, 'vishnu', 20]"
      ]
     },
     "execution_count": 30,
     "metadata": {},
     "output_type": "execute_result"
    }
   ],
   "source": [
    "l"
   ]
  },
  {
   "cell_type": "code",
   "execution_count": 31,
   "id": "508bba16",
   "metadata": {},
   "outputs": [],
   "source": [
    "l.insert(1,\"murali\")"
   ]
  },
  {
   "cell_type": "code",
   "execution_count": 32,
   "id": "655760e4",
   "metadata": {},
   "outputs": [
    {
     "data": {
      "text/plain": [
       "[10, 'murali', 20, 30, 100, 'vishnu', 20]"
      ]
     },
     "execution_count": 32,
     "metadata": {},
     "output_type": "execute_result"
    }
   ],
   "source": [
    "l"
   ]
  },
  {
   "cell_type": "code",
   "execution_count": null,
   "id": "e8f304f8",
   "metadata": {},
   "outputs": [],
   "source": [
    "'''Insert function is used to add element at the particular index'''"
   ]
  },
  {
   "cell_type": "code",
   "execution_count": null,
   "id": "e376d8d4",
   "metadata": {},
   "outputs": [],
   "source": []
  },
  {
   "cell_type": "code",
   "execution_count": null,
   "id": "1935b472",
   "metadata": {},
   "outputs": [],
   "source": []
  },
  {
   "cell_type": "code",
   "execution_count": null,
   "id": "69fdb294",
   "metadata": {},
   "outputs": [],
   "source": [
    "11."
   ]
  },
  {
   "cell_type": "code",
   "execution_count": null,
   "id": "b9de1834",
   "metadata": {},
   "outputs": [],
   "source": [
    "Two methods for removing items from a list:"
   ]
  },
  {
   "cell_type": "code",
   "execution_count": 38,
   "id": "8e707b73",
   "metadata": {},
   "outputs": [],
   "source": [
    "l=[\"vishnu\",\"murali\",20,30,40,50]"
   ]
  },
  {
   "cell_type": "code",
   "execution_count": null,
   "id": "ec6eca1b",
   "metadata": {},
   "outputs": [],
   "source": [
    "Pop() function - Which is used to remove the last element from list."
   ]
  },
  {
   "cell_type": "code",
   "execution_count": 39,
   "id": "5b99adea",
   "metadata": {},
   "outputs": [
    {
     "data": {
      "text/plain": [
       "50"
      ]
     },
     "execution_count": 39,
     "metadata": {},
     "output_type": "execute_result"
    }
   ],
   "source": [
    "l.pop()"
   ]
  },
  {
   "cell_type": "code",
   "execution_count": null,
   "id": "1e6570e8",
   "metadata": {},
   "outputs": [],
   "source": []
  },
  {
   "cell_type": "code",
   "execution_count": null,
   "id": "4982aa2c",
   "metadata": {},
   "outputs": [],
   "source": [
    "Remove() - To Remove any particular element from list."
   ]
  },
  {
   "cell_type": "code",
   "execution_count": 40,
   "id": "579b9149",
   "metadata": {},
   "outputs": [],
   "source": [
    "l.remove(20)"
   ]
  },
  {
   "cell_type": "code",
   "execution_count": 41,
   "id": "8ae4b7c8",
   "metadata": {},
   "outputs": [
    {
     "data": {
      "text/plain": [
       "['vishnu', 'murali', 30, 40]"
      ]
     },
     "execution_count": 41,
     "metadata": {},
     "output_type": "execute_result"
    }
   ],
   "source": [
    "l"
   ]
  },
  {
   "cell_type": "code",
   "execution_count": null,
   "id": "5b0b157a",
   "metadata": {},
   "outputs": [],
   "source": []
  },
  {
   "cell_type": "code",
   "execution_count": null,
   "id": "cbe3ef6a",
   "metadata": {},
   "outputs": [],
   "source": []
  },
  {
   "cell_type": "code",
   "execution_count": null,
   "id": "fd682d99",
   "metadata": {},
   "outputs": [],
   "source": [
    "12."
   ]
  },
  {
   "cell_type": "code",
   "execution_count": 1,
   "id": "831e038d",
   "metadata": {},
   "outputs": [],
   "source": [
    "a=[10,20,30,40,\"vishnu\"]   #List contains sequence of elements "
   ]
  },
  {
   "cell_type": "code",
   "execution_count": 2,
   "id": "19a67ff1",
   "metadata": {},
   "outputs": [],
   "source": [
    "b=\"Murali\"                 #Strings contain sequence of character."
   ]
  },
  {
   "cell_type": "code",
   "execution_count": null,
   "id": "f34c89f8",
   "metadata": {},
   "outputs": [],
   "source": []
  },
  {
   "cell_type": "code",
   "execution_count": 3,
   "id": "81ae7760",
   "metadata": {},
   "outputs": [
    {
     "data": {
      "text/plain": [
       "20"
      ]
     },
     "execution_count": 3,
     "metadata": {},
     "output_type": "execute_result"
    }
   ],
   "source": [
    "a[1]         #Both lists and strings support indexing and slicing operations.\n",
    "             # We can access individual elements in strings and list"
   ]
  },
  {
   "cell_type": "code",
   "execution_count": 4,
   "id": "ebf0de67",
   "metadata": {},
   "outputs": [
    {
     "data": {
      "text/plain": [
       "'u'"
      ]
     },
     "execution_count": 4,
     "metadata": {},
     "output_type": "execute_result"
    }
   ],
   "source": [
    "b[1]"
   ]
  },
  {
   "cell_type": "code",
   "execution_count": null,
   "id": "e541c4db",
   "metadata": {},
   "outputs": [],
   "source": []
  },
  {
   "cell_type": "code",
   "execution_count": 5,
   "id": "6935aeb9",
   "metadata": {},
   "outputs": [],
   "source": [
    "a[1]=25         #Lists are mutable we can modify and add new elements and remove existing element"
   ]
  },
  {
   "cell_type": "code",
   "execution_count": 6,
   "id": "b30b08b9",
   "metadata": {},
   "outputs": [
    {
     "data": {
      "text/plain": [
       "[10, 25, 30, 40, 'vishnu']"
      ]
     },
     "execution_count": 6,
     "metadata": {},
     "output_type": "execute_result"
    }
   ],
   "source": [
    "a"
   ]
  },
  {
   "cell_type": "code",
   "execution_count": 7,
   "id": "5da598e0",
   "metadata": {},
   "outputs": [
    {
     "ename": "NameError",
     "evalue": "name 's' is not defined",
     "output_type": "error",
     "traceback": [
      "\u001b[1;31m---------------------------------------------------------------------------\u001b[0m",
      "\u001b[1;31mNameError\u001b[0m                                 Traceback (most recent call last)",
      "Cell \u001b[1;32mIn[7], line 1\u001b[0m\n\u001b[1;32m----> 1\u001b[0m b[\u001b[38;5;241m1\u001b[39m]\u001b[38;5;241m=\u001b[39m\u001b[43ms\u001b[49m\n",
      "\u001b[1;31mNameError\u001b[0m: name 's' is not defined"
     ]
    }
   ],
   "source": [
    "b[1]=s        #Strings are immutable "
   ]
  },
  {
   "cell_type": "code",
   "execution_count": null,
   "id": "0d4ee59d",
   "metadata": {},
   "outputs": [],
   "source": []
  },
  {
   "cell_type": "code",
   "execution_count": 8,
   "id": "004b7fcb",
   "metadata": {},
   "outputs": [
    {
     "data": {
      "text/plain": [
       "[10, 25, 30, 40, 'vishnu']"
      ]
     },
     "execution_count": 8,
     "metadata": {},
     "output_type": "execute_result"
    }
   ],
   "source": [
    "a"
   ]
  },
  {
   "cell_type": "code",
   "execution_count": 9,
   "id": "e26c8274",
   "metadata": {},
   "outputs": [
    {
     "data": {
      "text/plain": [
       "'Murali'"
      ]
     },
     "execution_count": 9,
     "metadata": {},
     "output_type": "execute_result"
    }
   ],
   "source": [
    "b"
   ]
  },
  {
   "cell_type": "code",
   "execution_count": null,
   "id": "45d60c07",
   "metadata": {},
   "outputs": [],
   "source": [
    "#we can iterate both list and string"
   ]
  },
  {
   "cell_type": "code",
   "execution_count": 11,
   "id": "3aabf9d1",
   "metadata": {},
   "outputs": [
    {
     "name": "stdout",
     "output_type": "stream",
     "text": [
      "10\n",
      "25\n",
      "30\n",
      "40\n",
      "vishnu\n"
     ]
    }
   ],
   "source": [
    "for i in a:\n",
    "    print(i)"
   ]
  },
  {
   "cell_type": "code",
   "execution_count": 12,
   "id": "c420bea7",
   "metadata": {},
   "outputs": [
    {
     "name": "stdout",
     "output_type": "stream",
     "text": [
      "M\n",
      "u\n",
      "r\n",
      "a\n",
      "l\n",
      "i\n"
     ]
    }
   ],
   "source": [
    "for i in b:\n",
    "    print(i)"
   ]
  },
  {
   "cell_type": "code",
   "execution_count": null,
   "id": "3080d300",
   "metadata": {},
   "outputs": [],
   "source": []
  },
  {
   "cell_type": "code",
   "execution_count": null,
   "id": "ae1ede42",
   "metadata": {},
   "outputs": [],
   "source": []
  },
  {
   "cell_type": "code",
   "execution_count": null,
   "id": "f037c9b7",
   "metadata": {},
   "outputs": [],
   "source": [
    "13."
   ]
  },
  {
   "cell_type": "code",
   "execution_count": null,
   "id": "69adbf5d",
   "metadata": {},
   "outputs": [],
   "source": [
    "#Tuple"
   ]
  },
  {
   "cell_type": "code",
   "execution_count": 13,
   "id": "c19e2812",
   "metadata": {},
   "outputs": [],
   "source": [
    "a=(10,20,30,40,\"vishnu\")"
   ]
  },
  {
   "cell_type": "code",
   "execution_count": 14,
   "id": "6e7d268f",
   "metadata": {},
   "outputs": [
    {
     "data": {
      "text/plain": [
       "20"
      ]
     },
     "execution_count": 14,
     "metadata": {},
     "output_type": "execute_result"
    }
   ],
   "source": [
    "a[1]       #we can access each element in tuples."
   ]
  },
  {
   "cell_type": "code",
   "execution_count": 15,
   "id": "d8f7e4a9",
   "metadata": {},
   "outputs": [
    {
     "ename": "TypeError",
     "evalue": "'tuple' object does not support item assignment",
     "output_type": "error",
     "traceback": [
      "\u001b[1;31m---------------------------------------------------------------------------\u001b[0m",
      "\u001b[1;31mTypeError\u001b[0m                                 Traceback (most recent call last)",
      "Cell \u001b[1;32mIn[15], line 1\u001b[0m\n\u001b[1;32m----> 1\u001b[0m a[\u001b[38;5;241m2\u001b[39m]\u001b[38;5;241m=\u001b[39m\u001b[38;5;124m\"\u001b[39m\u001b[38;5;124mkiran\u001b[39m\u001b[38;5;124m\"\u001b[39m\n",
      "\u001b[1;31mTypeError\u001b[0m: 'tuple' object does not support item assignment"
     ]
    }
   ],
   "source": [
    "a[2]=\"kiran\"  #We cannot change or modify once tuple is created."
   ]
  },
  {
   "cell_type": "code",
   "execution_count": 16,
   "id": "8f11a8e9",
   "metadata": {},
   "outputs": [
    {
     "data": {
      "text/plain": [
       "('vishnu', 40, 30, 20, 10)"
      ]
     },
     "execution_count": 16,
     "metadata": {},
     "output_type": "execute_result"
    }
   ],
   "source": [
    "a[::-1]"
   ]
  },
  {
   "cell_type": "code",
   "execution_count": null,
   "id": "1c3dc976",
   "metadata": {},
   "outputs": [],
   "source": []
  },
  {
   "cell_type": "code",
   "execution_count": null,
   "id": "5b5a54a3",
   "metadata": {},
   "outputs": [],
   "source": [
    "#lists"
   ]
  },
  {
   "cell_type": "code",
   "execution_count": 17,
   "id": "9ee6551a",
   "metadata": {},
   "outputs": [],
   "source": [
    "a=[10,20,30,40,50,\"vishnnu\"]"
   ]
  },
  {
   "cell_type": "code",
   "execution_count": 18,
   "id": "f0783c92",
   "metadata": {},
   "outputs": [
    {
     "data": {
      "text/plain": [
       "20"
      ]
     },
     "execution_count": 18,
     "metadata": {},
     "output_type": "execute_result"
    }
   ],
   "source": [
    "a[1]     #we can access each element in Lists"
   ]
  },
  {
   "cell_type": "code",
   "execution_count": 19,
   "id": "70da03ea",
   "metadata": {},
   "outputs": [],
   "source": [
    "a[2]=\"murali\""
   ]
  },
  {
   "cell_type": "code",
   "execution_count": 20,
   "id": "9cdc7092",
   "metadata": {},
   "outputs": [
    {
     "data": {
      "text/plain": [
       "[10, 20, 'murali', 40, 50, 'vishnnu']"
      ]
     },
     "execution_count": 20,
     "metadata": {},
     "output_type": "execute_result"
    }
   ],
   "source": [
    "a           #We cannot change or modify the existing value in lists."
   ]
  },
  {
   "cell_type": "code",
   "execution_count": null,
   "id": "6f80de7e",
   "metadata": {},
   "outputs": [],
   "source": []
  },
  {
   "cell_type": "code",
   "execution_count": null,
   "id": "056a085a",
   "metadata": {},
   "outputs": [],
   "source": [
    "#Both lists and Tuples are Heterogeneous\n",
    "\n",
    "'''Tuples and lists contain elements of different data types.'''"
   ]
  },
  {
   "cell_type": "code",
   "execution_count": null,
   "id": "5aa2cc2b",
   "metadata": {},
   "outputs": [],
   "source": []
  },
  {
   "cell_type": "code",
   "execution_count": null,
   "id": "97d2be0f",
   "metadata": {},
   "outputs": [],
   "source": []
  },
  {
   "cell_type": "code",
   "execution_count": null,
   "id": "2daa2fa4",
   "metadata": {},
   "outputs": [],
   "source": [
    "14."
   ]
  },
  {
   "cell_type": "code",
   "execution_count": 25,
   "id": "57ac1930",
   "metadata": {},
   "outputs": [],
   "source": [
    "a=(42)"
   ]
  },
  {
   "cell_type": "code",
   "execution_count": 26,
   "id": "3c361d0b",
   "metadata": {},
   "outputs": [
    {
     "data": {
      "text/plain": [
       "int"
      ]
     },
     "execution_count": 26,
     "metadata": {},
     "output_type": "execute_result"
    }
   ],
   "source": [
    "type(a)"
   ]
  },
  {
   "cell_type": "code",
   "execution_count": 27,
   "id": "dbc4e100",
   "metadata": {},
   "outputs": [],
   "source": [
    "a=(42,)"
   ]
  },
  {
   "cell_type": "code",
   "execution_count": 28,
   "id": "8aa17a49",
   "metadata": {},
   "outputs": [
    {
     "data": {
      "text/plain": [
       "tuple"
      ]
     },
     "execution_count": 28,
     "metadata": {},
     "output_type": "execute_result"
    }
   ],
   "source": [
    "type(a)"
   ]
  },
  {
   "cell_type": "code",
   "execution_count": null,
   "id": "12d2bac7",
   "metadata": {},
   "outputs": [],
   "source": []
  },
  {
   "cell_type": "code",
   "execution_count": null,
   "id": "b166cb92",
   "metadata": {},
   "outputs": [],
   "source": []
  },
  {
   "cell_type": "code",
   "execution_count": null,
   "id": "203ac41a",
   "metadata": {},
   "outputs": [],
   "source": [
    "15."
   ]
  },
  {
   "cell_type": "code",
   "execution_count": 29,
   "id": "de165278",
   "metadata": {},
   "outputs": [],
   "source": [
    "l=[25,35,36,369,65,63,\"vishnu\"]"
   ]
  },
  {
   "cell_type": "code",
   "execution_count": 31,
   "id": "cd0a6226",
   "metadata": {},
   "outputs": [
    {
     "data": {
      "text/plain": [
       "list"
      ]
     },
     "execution_count": 31,
     "metadata": {},
     "output_type": "execute_result"
    }
   ],
   "source": [
    "type(l)"
   ]
  },
  {
   "cell_type": "code",
   "execution_count": 32,
   "id": "66959716",
   "metadata": {},
   "outputs": [],
   "source": [
    "l1=tuple(l)"
   ]
  },
  {
   "cell_type": "code",
   "execution_count": 33,
   "id": "6b822c41",
   "metadata": {},
   "outputs": [
    {
     "data": {
      "text/plain": [
       "(25, 35, 36, 369, 65, 63, 'vishnu')"
      ]
     },
     "execution_count": 33,
     "metadata": {},
     "output_type": "execute_result"
    }
   ],
   "source": [
    "l1"
   ]
  },
  {
   "cell_type": "code",
   "execution_count": 34,
   "id": "306df21d",
   "metadata": {},
   "outputs": [
    {
     "data": {
      "text/plain": [
       "tuple"
      ]
     },
     "execution_count": 34,
     "metadata": {},
     "output_type": "execute_result"
    }
   ],
   "source": [
    "type(l1)"
   ]
  },
  {
   "cell_type": "code",
   "execution_count": null,
   "id": "548ad836",
   "metadata": {},
   "outputs": [],
   "source": []
  },
  {
   "cell_type": "code",
   "execution_count": 35,
   "id": "d6556488",
   "metadata": {},
   "outputs": [],
   "source": [
    "t=(25,36,45,252,563,63,\"vishnu\")"
   ]
  },
  {
   "cell_type": "code",
   "execution_count": 36,
   "id": "6f7250a6",
   "metadata": {},
   "outputs": [
    {
     "data": {
      "text/plain": [
       "tuple"
      ]
     },
     "execution_count": 36,
     "metadata": {},
     "output_type": "execute_result"
    }
   ],
   "source": [
    "type(t)"
   ]
  },
  {
   "cell_type": "code",
   "execution_count": 37,
   "id": "3a1ae461",
   "metadata": {},
   "outputs": [],
   "source": [
    "t1=list(t)"
   ]
  },
  {
   "cell_type": "code",
   "execution_count": 38,
   "id": "023049cc",
   "metadata": {},
   "outputs": [
    {
     "data": {
      "text/plain": [
       "[25, 36, 45, 252, 563, 63, 'vishnu']"
      ]
     },
     "execution_count": 38,
     "metadata": {},
     "output_type": "execute_result"
    }
   ],
   "source": [
    "t1"
   ]
  },
  {
   "cell_type": "code",
   "execution_count": null,
   "id": "5ff66661",
   "metadata": {},
   "outputs": [],
   "source": []
  },
  {
   "cell_type": "code",
   "execution_count": null,
   "id": "93d50456",
   "metadata": {},
   "outputs": [],
   "source": []
  },
  {
   "cell_type": "code",
   "execution_count": null,
   "id": "72f3580c",
   "metadata": {},
   "outputs": [],
   "source": [
    "16."
   ]
  },
  {
   "cell_type": "code",
   "execution_count": 41,
   "id": "9a8d66b4",
   "metadata": {},
   "outputs": [],
   "source": [
    "students1=[\"vishnu\",\"murali\",\"kiran\",\"karthik\"]"
   ]
  },
  {
   "cell_type": "code",
   "execution_count": 42,
   "id": "2b888eea",
   "metadata": {},
   "outputs": [],
   "source": [
    "students2=[\"sanjay\",\"sandeep\",\"sanoj\",\"veena\"]"
   ]
  },
  {
   "cell_type": "code",
   "execution_count": 55,
   "id": "d16b9174",
   "metadata": {},
   "outputs": [],
   "source": [
    "students3=students2"
   ]
  },
  {
   "cell_type": "code",
   "execution_count": 56,
   "id": "5c9031d9",
   "metadata": {},
   "outputs": [],
   "source": [
    "students3.append(\"abhishek\")"
   ]
  },
  {
   "cell_type": "code",
   "execution_count": 57,
   "id": "3b7a7e3d",
   "metadata": {},
   "outputs": [
    {
     "name": "stdout",
     "output_type": "stream",
     "text": [
      "['vishnu', 'murali', 'kiran', 'karthik', 'abhishek']\n"
     ]
    }
   ],
   "source": [
    "print(students3)"
   ]
  },
  {
   "cell_type": "code",
   "execution_count": 58,
   "id": "ef936f16",
   "metadata": {},
   "outputs": [
    {
     "name": "stdout",
     "output_type": "stream",
     "text": [
      "['vishnu', 'murali', 'kiran', 'karthik', 'abhishek']\n"
     ]
    }
   ],
   "source": [
    "print(students2)"
   ]
  },
  {
   "cell_type": "code",
   "execution_count": null,
   "id": "b41bdede",
   "metadata": {},
   "outputs": [],
   "source": []
  },
  {
   "cell_type": "code",
   "execution_count": null,
   "id": "ea7a8dc0",
   "metadata": {},
   "outputs": [],
   "source": []
  },
  {
   "cell_type": "code",
   "execution_count": null,
   "id": "dcc4fdd5",
   "metadata": {},
   "outputs": [],
   "source": [
    "17."
   ]
  },
  {
   "cell_type": "code",
   "execution_count": 51,
   "id": "9620f113",
   "metadata": {},
   "outputs": [],
   "source": [
    "import copy"
   ]
  },
  {
   "cell_type": "code",
   "execution_count": 61,
   "id": "3088ccd3",
   "metadata": {},
   "outputs": [],
   "source": [
    "items=[\"mango\",\"apple\",\"grapes\",[\"carrot\",\"tomato\",\"beetroot\"]]"
   ]
  },
  {
   "cell_type": "code",
   "execution_count": 63,
   "id": "b4ef57b3",
   "metadata": {},
   "outputs": [],
   "source": [
    "items1=copy.copy(items)"
   ]
  },
  {
   "cell_type": "code",
   "execution_count": 64,
   "id": "4794c905",
   "metadata": {},
   "outputs": [],
   "source": [
    "items1[3].append(\"onion\")"
   ]
  },
  {
   "cell_type": "code",
   "execution_count": 65,
   "id": "c4c8e93c",
   "metadata": {},
   "outputs": [
    {
     "data": {
      "text/plain": [
       "['mango', 'apple', 'grapes', ['carrot', 'tomato', 'beetroot', 'onion']]"
      ]
     },
     "execution_count": 65,
     "metadata": {},
     "output_type": "execute_result"
    }
   ],
   "source": [
    "items"
   ]
  },
  {
   "cell_type": "code",
   "execution_count": 66,
   "id": "af3a59e7",
   "metadata": {},
   "outputs": [
    {
     "data": {
      "text/plain": [
       "['mango', 'apple', 'grapes', ['carrot', 'tomato', 'beetroot', 'onion']]"
      ]
     },
     "execution_count": 66,
     "metadata": {},
     "output_type": "execute_result"
    }
   ],
   "source": [
    "items1"
   ]
  },
  {
   "cell_type": "code",
   "execution_count": null,
   "id": "19373ca2",
   "metadata": {},
   "outputs": [],
   "source": []
  },
  {
   "cell_type": "code",
   "execution_count": 83,
   "id": "d61ab04e",
   "metadata": {},
   "outputs": [],
   "source": [
    "from copy import deepcopy"
   ]
  },
  {
   "cell_type": "code",
   "execution_count": 77,
   "id": "627ba281",
   "metadata": {},
   "outputs": [],
   "source": [
    "marks1=[95,35,63,63,55]"
   ]
  },
  {
   "cell_type": "code",
   "execution_count": 84,
   "id": "c9eb16e4",
   "metadata": {},
   "outputs": [],
   "source": [
    "marks2=copy.deepcopy(marks1)"
   ]
  },
  {
   "cell_type": "code",
   "execution_count": 88,
   "id": "dc6e2f22",
   "metadata": {},
   "outputs": [],
   "source": [
    "marks2[2]=66"
   ]
  },
  {
   "cell_type": "code",
   "execution_count": 89,
   "id": "e943c367",
   "metadata": {},
   "outputs": [
    {
     "data": {
      "text/plain": [
       "[95, 35, 63, 63, 55]"
      ]
     },
     "execution_count": 89,
     "metadata": {},
     "output_type": "execute_result"
    }
   ],
   "source": [
    "marks1"
   ]
  },
  {
   "cell_type": "code",
   "execution_count": 90,
   "id": "a7bf9a8c",
   "metadata": {},
   "outputs": [
    {
     "data": {
      "text/plain": [
       "[95, 35, 66, 63, 55]"
      ]
     },
     "execution_count": 90,
     "metadata": {},
     "output_type": "execute_result"
    }
   ],
   "source": [
    "marks2"
   ]
  },
  {
   "cell_type": "code",
   "execution_count": null,
   "id": "d3ced87d",
   "metadata": {},
   "outputs": [],
   "source": []
  }
 ],
 "metadata": {
  "kernelspec": {
   "display_name": "Python 3 (ipykernel)",
   "language": "python",
   "name": "python3"
  },
  "language_info": {
   "codemirror_mode": {
    "name": "ipython",
    "version": 3
   },
   "file_extension": ".py",
   "mimetype": "text/x-python",
   "name": "python",
   "nbconvert_exporter": "python",
   "pygments_lexer": "ipython3",
   "version": "3.10.9"
  }
 },
 "nbformat": 4,
 "nbformat_minor": 5
}
