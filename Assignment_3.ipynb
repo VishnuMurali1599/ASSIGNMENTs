{
 "cells": [
  {
   "cell_type": "code",
   "execution_count": null,
   "id": "842ddb59",
   "metadata": {},
   "outputs": [],
   "source": [
    "11/6/23"
   ]
  },
  {
   "cell_type": "code",
   "execution_count": null,
   "id": "15022db1",
   "metadata": {},
   "outputs": [],
   "source": []
  },
  {
   "cell_type": "code",
   "execution_count": null,
   "id": "fff56a1c",
   "metadata": {},
   "outputs": [],
   "source": []
  },
  {
   "cell_type": "code",
   "execution_count": null,
   "id": "33ce698b",
   "metadata": {},
   "outputs": [],
   "source": [
    "1."
   ]
  },
  {
   "cell_type": "code",
   "execution_count": null,
   "id": "95c54048",
   "metadata": {},
   "outputs": [],
   "source": [
    "Functions\n",
    "\n",
    "We can create large number of codes in python but if we want to repeatedly use the code n number \n",
    "of time Functions comes into use.\n",
    "\n",
    "\n",
    " Functions allow you to break down  our program into smaller, more manageable pieces,\n",
    "making our code more organized, modular, and easier to understand. Functions can accept inputs \n",
    "(arguments) and return outputs (return values) to provide a way to interact with and manipulate \n",
    "data.\n",
    "\n",
    "\n",
    "Functions are of two types \n",
    "1.Bulit in Functions.\n",
    "2.User Defined Function."
   ]
  },
  {
   "cell_type": "code",
   "execution_count": null,
   "id": "97d4355e",
   "metadata": {},
   "outputs": [],
   "source": []
  },
  {
   "cell_type": "code",
   "execution_count": null,
   "id": "7b86afc8",
   "metadata": {},
   "outputs": [],
   "source": []
  },
  {
   "cell_type": "code",
   "execution_count": null,
   "id": "a85f5e61",
   "metadata": {},
   "outputs": [],
   "source": [
    "2."
   ]
  },
  {
   "cell_type": "code",
   "execution_count": null,
   "id": "55754411",
   "metadata": {},
   "outputs": [],
   "source": [
    "the code in a function run: \n",
    "    \n",
    "    If it is called."
   ]
  },
  {
   "cell_type": "code",
   "execution_count": null,
   "id": "b60927dd",
   "metadata": {},
   "outputs": [],
   "source": []
  },
  {
   "cell_type": "code",
   "execution_count": null,
   "id": "832ea395",
   "metadata": {},
   "outputs": [],
   "source": []
  },
  {
   "cell_type": "code",
   "execution_count": null,
   "id": "265315dd",
   "metadata": {},
   "outputs": [],
   "source": [
    "3."
   ]
  },
  {
   "cell_type": "code",
   "execution_count": null,
   "id": "ee2a7ed8",
   "metadata": {},
   "outputs": [],
   "source": [
    "def any_name(arguments):\n",
    "    pass\n",
    "\n",
    "'''This statement create a function'''"
   ]
  },
  {
   "cell_type": "code",
   "execution_count": null,
   "id": "4714e591",
   "metadata": {},
   "outputs": [],
   "source": []
  },
  {
   "cell_type": "code",
   "execution_count": null,
   "id": "177e8dbe",
   "metadata": {},
   "outputs": [],
   "source": []
  },
  {
   "cell_type": "code",
   "execution_count": null,
   "id": "0f810b3b",
   "metadata": {},
   "outputs": [],
   "source": [
    "4."
   ]
  },
  {
   "cell_type": "code",
   "execution_count": null,
   "id": "c65c3fbb",
   "metadata": {},
   "outputs": [],
   "source": [
    "Function:\n",
    "    >To make or code easier and repetable we create function.\n",
    "    >It is defined using a function definition and consists of a function name, parameters \n",
    "     (optional), and a function body that contains the code to be executed\n",
    "\n",
    "Function Call:\n",
    "    >Whatever the function we have created should be called using function name what we provided.\n",
    "    >A function call is typically made by using the function name followed by parentheses,\n",
    "     optionally passing any required arguments."
   ]
  },
  {
   "cell_type": "code",
   "execution_count": null,
   "id": "a65130a9",
   "metadata": {},
   "outputs": [],
   "source": []
  },
  {
   "cell_type": "code",
   "execution_count": null,
   "id": "fd715ffd",
   "metadata": {},
   "outputs": [],
   "source": []
  },
  {
   "cell_type": "code",
   "execution_count": null,
   "id": "b22196c3",
   "metadata": {},
   "outputs": [],
   "source": [
    "5."
   ]
  },
  {
   "cell_type": "code",
   "execution_count": null,
   "id": "611d39d5",
   "metadata": {},
   "outputs": [],
   "source": [
    "There is one global scope that exists throughout the program, and each function call or code block \n",
    "has its own separate local scope. \n",
    "\n",
    "The number of local scopes depends on how many functions or code blocks are executed during the\n",
    "program's execution."
   ]
  },
  {
   "cell_type": "code",
   "execution_count": null,
   "id": "f1538d09",
   "metadata": {},
   "outputs": [],
   "source": []
  },
  {
   "cell_type": "code",
   "execution_count": null,
   "id": "67618995",
   "metadata": {},
   "outputs": [],
   "source": []
  },
  {
   "cell_type": "code",
   "execution_count": null,
   "id": "d3e37681",
   "metadata": {},
   "outputs": [],
   "source": [
    "6."
   ]
  },
  {
   "cell_type": "code",
   "execution_count": null,
   "id": "70026210",
   "metadata": {},
   "outputs": [],
   "source": [
    "When a function call returns, the local scope and the variables defined within it are removed."
   ]
  },
  {
   "cell_type": "code",
   "execution_count": 65,
   "id": "2079bcaa",
   "metadata": {},
   "outputs": [],
   "source": [
    "def local_function():\n",
    "    a=150\n",
    "    b=250\n",
    "    result=a+b\n",
    "    "
   ]
  },
  {
   "cell_type": "code",
   "execution_count": 66,
   "id": "1100d521",
   "metadata": {},
   "outputs": [],
   "source": [
    "fun=local_function()"
   ]
  },
  {
   "cell_type": "code",
   "execution_count": 67,
   "id": "fcdc3dd5",
   "metadata": {},
   "outputs": [
    {
     "name": "stdout",
     "output_type": "stream",
     "text": [
      "None\n"
     ]
    }
   ],
   "source": [
    "print(fun)"
   ]
  },
  {
   "cell_type": "code",
   "execution_count": null,
   "id": "0ca455ab",
   "metadata": {},
   "outputs": [],
   "source": [
    "The variables x, y, and result are no longer accessible or exist in memory. If we try to access \n",
    "these variables outside the function, we will encounter an error:"
   ]
  },
  {
   "cell_type": "code",
   "execution_count": null,
   "id": "21d7ae90",
   "metadata": {},
   "outputs": [],
   "source": []
  },
  {
   "cell_type": "code",
   "execution_count": null,
   "id": "c4f32bcf",
   "metadata": {},
   "outputs": [],
   "source": []
  },
  {
   "cell_type": "code",
   "execution_count": null,
   "id": "3a610435",
   "metadata": {},
   "outputs": [],
   "source": [
    "7."
   ]
  },
  {
   "cell_type": "code",
   "execution_count": null,
   "id": "739a9496",
   "metadata": {},
   "outputs": [],
   "source": [
    "A return statement is used to end the execution of the function call and returns the result.\n",
    "\n",
    "The statements after the return statements are not executed. If the return statement is without any \n",
    "expression, then the special value None is returned."
   ]
  },
  {
   "cell_type": "code",
   "execution_count": 1,
   "id": "87ff83e7",
   "metadata": {},
   "outputs": [],
   "source": [
    "def test1(a,b):\n",
    "    print(a+b)"
   ]
  },
  {
   "cell_type": "code",
   "execution_count": 4,
   "id": "62ad8feb",
   "metadata": {},
   "outputs": [
    {
     "name": "stdout",
     "output_type": "stream",
     "text": [
      "30\n"
     ]
    }
   ],
   "source": [
    "t=test1(10,20)"
   ]
  },
  {
   "cell_type": "code",
   "execution_count": 5,
   "id": "058b7a12",
   "metadata": {},
   "outputs": [
    {
     "data": {
      "text/plain": [
       "NoneType"
      ]
     },
     "execution_count": 5,
     "metadata": {},
     "output_type": "execute_result"
    }
   ],
   "source": [
    "type(t)"
   ]
  },
  {
   "cell_type": "code",
   "execution_count": null,
   "id": "145e8cd6",
   "metadata": {},
   "outputs": [],
   "source": [
    "We are getting none type in using Print function"
   ]
  },
  {
   "cell_type": "code",
   "execution_count": 6,
   "id": "48e2b667",
   "metadata": {},
   "outputs": [],
   "source": [
    "def test2(a,b):\n",
    "    return a+b"
   ]
  },
  {
   "cell_type": "code",
   "execution_count": 8,
   "id": "e8ff969c",
   "metadata": {},
   "outputs": [],
   "source": [
    "t1=test2(100,200)"
   ]
  },
  {
   "cell_type": "code",
   "execution_count": 9,
   "id": "254cab4c",
   "metadata": {},
   "outputs": [
    {
     "data": {
      "text/plain": [
       "300"
      ]
     },
     "execution_count": 9,
     "metadata": {},
     "output_type": "execute_result"
    }
   ],
   "source": [
    "t1"
   ]
  },
  {
   "cell_type": "code",
   "execution_count": 10,
   "id": "20dc1ee2",
   "metadata": {},
   "outputs": [
    {
     "data": {
      "text/plain": [
       "int"
      ]
     },
     "execution_count": 10,
     "metadata": {},
     "output_type": "execute_result"
    }
   ],
   "source": [
    "type(t1)"
   ]
  },
  {
   "cell_type": "code",
   "execution_count": null,
   "id": "631accbc",
   "metadata": {},
   "outputs": [],
   "source": [
    "In return function its is providing which type of datatype we used"
   ]
  },
  {
   "cell_type": "code",
   "execution_count": 15,
   "id": "d04e5e08",
   "metadata": {},
   "outputs": [],
   "source": [
    "def test2(a,b):\n",
    "    return a+b ,\" vishnu\""
   ]
  },
  {
   "cell_type": "code",
   "execution_count": 16,
   "id": "6d4a371a",
   "metadata": {},
   "outputs": [
    {
     "data": {
      "text/plain": [
       "(114, ' vishnu')"
      ]
     },
     "execution_count": 16,
     "metadata": {},
     "output_type": "execute_result"
    }
   ],
   "source": [
    "test2(15,99)"
   ]
  },
  {
   "cell_type": "code",
   "execution_count": null,
   "id": "e578ceee",
   "metadata": {},
   "outputs": [],
   "source": []
  },
  {
   "cell_type": "code",
   "execution_count": null,
   "id": "cd42c188",
   "metadata": {},
   "outputs": [],
   "source": []
  },
  {
   "cell_type": "code",
   "execution_count": null,
   "id": "ac33f51a",
   "metadata": {},
   "outputs": [],
   "source": [
    "8."
   ]
  },
  {
   "cell_type": "code",
   "execution_count": null,
   "id": "8be4f735",
   "metadata": {},
   "outputs": [],
   "source": [
    "Function does not have a return statement, or if the return statement is empty (i.e., return \n",
    "without any value), the function call will still produce a return value."
   ]
  },
  {
   "cell_type": "code",
   "execution_count": 19,
   "id": "03a69821",
   "metadata": {},
   "outputs": [],
   "source": [
    "def Details(name):\n",
    "    print(f\"{name} welcome to this world\")"
   ]
  },
  {
   "cell_type": "code",
   "execution_count": 20,
   "id": "94e402b0",
   "metadata": {},
   "outputs": [
    {
     "name": "stdout",
     "output_type": "stream",
     "text": [
      "Vishnu welcome to this world\n"
     ]
    }
   ],
   "source": [
    "D=Details(\"Vishnu\")"
   ]
  },
  {
   "cell_type": "code",
   "execution_count": 21,
   "id": "ca948759",
   "metadata": {},
   "outputs": [
    {
     "data": {
      "text/plain": [
       "NoneType"
      ]
     },
     "execution_count": 21,
     "metadata": {},
     "output_type": "execute_result"
    }
   ],
   "source": [
    "type(D)"
   ]
  },
  {
   "cell_type": "code",
   "execution_count": 23,
   "id": "f0b757db",
   "metadata": {},
   "outputs": [],
   "source": [
    "def details1(name):\n",
    "    return (f\"{name} welcome to this digital world\")"
   ]
  },
  {
   "cell_type": "code",
   "execution_count": 28,
   "id": "6497b8fc",
   "metadata": {},
   "outputs": [],
   "source": [
    "D1=details1(\"vishnu\")"
   ]
  },
  {
   "cell_type": "code",
   "execution_count": 29,
   "id": "9fa9ba76",
   "metadata": {},
   "outputs": [
    {
     "data": {
      "text/plain": [
       "str"
      ]
     },
     "execution_count": 29,
     "metadata": {},
     "output_type": "execute_result"
    }
   ],
   "source": [
    "type(D1)"
   ]
  },
  {
   "cell_type": "code",
   "execution_count": null,
   "id": "59914d63",
   "metadata": {},
   "outputs": [],
   "source": [
    "By using return function it will be poviding datatype instead of none type"
   ]
  },
  {
   "cell_type": "code",
   "execution_count": null,
   "id": "79e29c2c",
   "metadata": {},
   "outputs": [],
   "source": []
  },
  {
   "cell_type": "code",
   "execution_count": null,
   "id": "4e2e85e9",
   "metadata": {},
   "outputs": [],
   "source": []
  },
  {
   "cell_type": "code",
   "execution_count": null,
   "id": "352ad643",
   "metadata": {},
   "outputs": [],
   "source": [
    "9."
   ]
  },
  {
   "cell_type": "code",
   "execution_count": null,
   "id": "598a8ebb",
   "metadata": {},
   "outputs": [],
   "source": [
    "Gobal variables are the variables which are declared\n",
    "outside the function.\n",
    "\n",
    "The global keyword allows you to indicate that a variable is a global variable rather than a local \n",
    "variable within the function's scope."
   ]
  },
  {
   "cell_type": "code",
   "execution_count": 30,
   "id": "f95af165",
   "metadata": {},
   "outputs": [],
   "source": [
    "number1 = 50"
   ]
  },
  {
   "cell_type": "code",
   "execution_count": 31,
   "id": "afc66d38",
   "metadata": {},
   "outputs": [],
   "source": [
    "def numeric():\n",
    "    global number1\n",
    "    number1=100"
   ]
  },
  {
   "cell_type": "code",
   "execution_count": 32,
   "id": "a9475c72",
   "metadata": {},
   "outputs": [
    {
     "name": "stdout",
     "output_type": "stream",
     "text": [
      "50\n"
     ]
    }
   ],
   "source": [
    "print(number1)"
   ]
  },
  {
   "cell_type": "code",
   "execution_count": 34,
   "id": "62f9b8df",
   "metadata": {},
   "outputs": [],
   "source": [
    "numeric()"
   ]
  },
  {
   "cell_type": "code",
   "execution_count": 35,
   "id": "bca388b6",
   "metadata": {},
   "outputs": [
    {
     "data": {
      "text/plain": [
       "100"
      ]
     },
     "execution_count": 35,
     "metadata": {},
     "output_type": "execute_result"
    }
   ],
   "source": [
    "number1"
   ]
  },
  {
   "cell_type": "code",
   "execution_count": null,
   "id": "72d175a0",
   "metadata": {},
   "outputs": [],
   "source": [
    "The global keyword, you can access and modify global \n",
    "variables from within a function. "
   ]
  },
  {
   "cell_type": "code",
   "execution_count": null,
   "id": "32479f4c",
   "metadata": {},
   "outputs": [],
   "source": []
  },
  {
   "cell_type": "code",
   "execution_count": null,
   "id": "50df469c",
   "metadata": {},
   "outputs": [],
   "source": []
  },
  {
   "cell_type": "code",
   "execution_count": null,
   "id": "16b89bd1",
   "metadata": {},
   "outputs": [],
   "source": [
    "10"
   ]
  },
  {
   "cell_type": "code",
   "execution_count": null,
   "id": "85fba68d",
   "metadata": {},
   "outputs": [],
   "source": [
    "Data type of none is:\n",
    "    \n",
    "    Non type"
   ]
  },
  {
   "cell_type": "code",
   "execution_count": 37,
   "id": "3758fec0",
   "metadata": {},
   "outputs": [],
   "source": [
    "def data_type():\n",
    "    print(\"welcome all\")"
   ]
  },
  {
   "cell_type": "code",
   "execution_count": 39,
   "id": "2bb8c3e0",
   "metadata": {},
   "outputs": [
    {
     "name": "stdout",
     "output_type": "stream",
     "text": [
      "welcome all\n"
     ]
    }
   ],
   "source": [
    "d=data_type()"
   ]
  },
  {
   "cell_type": "code",
   "execution_count": 40,
   "id": "2187f732",
   "metadata": {},
   "outputs": [
    {
     "data": {
      "text/plain": [
       "NoneType"
      ]
     },
     "execution_count": 40,
     "metadata": {},
     "output_type": "execute_result"
    }
   ],
   "source": [
    "type(d)"
   ]
  },
  {
   "cell_type": "code",
   "execution_count": null,
   "id": "6fbc8dc9",
   "metadata": {},
   "outputs": [],
   "source": []
  },
  {
   "cell_type": "code",
   "execution_count": null,
   "id": "d6ad8078",
   "metadata": {},
   "outputs": [],
   "source": []
  },
  {
   "cell_type": "code",
   "execution_count": null,
   "id": "197e948f",
   "metadata": {},
   "outputs": [],
   "source": [
    "11"
   ]
  },
  {
   "cell_type": "code",
   "execution_count": null,
   "id": "b08b4dde",
   "metadata": {},
   "outputs": [],
   "source": [
    " The import statement is used to import modules or \n",
    "    packages, and it requires a valid module or package \n",
    "    name to follow it. "
   ]
  },
  {
   "cell_type": "code",
   "execution_count": null,
   "id": "7a0a2b4f",
   "metadata": {},
   "outputs": [],
   "source": []
  },
  {
   "cell_type": "code",
   "execution_count": null,
   "id": "1cfc684f",
   "metadata": {},
   "outputs": [],
   "source": []
  },
  {
   "cell_type": "code",
   "execution_count": null,
   "id": "b3e942cb",
   "metadata": {},
   "outputs": [],
   "source": [
    "12."
   ]
  },
  {
   "cell_type": "code",
   "execution_count": null,
   "id": "617bee58",
   "metadata": {},
   "outputs": [],
   "source": [
    "import spam\n",
    "\n",
    "spam.bacon()"
   ]
  },
  {
   "cell_type": "code",
   "execution_count": null,
   "id": "827c9a9a",
   "metadata": {},
   "outputs": [],
   "source": []
  },
  {
   "cell_type": "code",
   "execution_count": null,
   "id": "d4117130",
   "metadata": {},
   "outputs": [],
   "source": []
  },
  {
   "cell_type": "code",
   "execution_count": null,
   "id": "ed354310",
   "metadata": {},
   "outputs": [],
   "source": [
    "13."
   ]
  },
  {
   "cell_type": "code",
   "execution_count": null,
   "id": "b99353ff",
   "metadata": {},
   "outputs": [],
   "source": [
    "To save a programme from crashing if it encounters an error , we can try  with \n",
    "exception handling method:"
   ]
  },
  {
   "cell_type": "code",
   "execution_count": null,
   "id": "483cd093",
   "metadata": {},
   "outputs": [],
   "source": [
    "try :\n",
    "    it helps to check hte or try the code or new method of\n",
    "    doing code>\n",
    "except:\n",
    "    ExceptionType represents the specific type of \n",
    "    exception you want to handle.\n",
    "    "
   ]
  },
  {
   "cell_type": "code",
   "execution_count": 53,
   "id": "8652f844",
   "metadata": {},
   "outputs": [
    {
     "name": "stdout",
     "output_type": "stream",
     "text": [
      "enter the number : 10\n",
      "The entered number is even number 10\n"
     ]
    }
   ],
   "source": [
    "try:\n",
    "    n=int(input(\"enter the number : \"))\n",
    "    if n%2==0:\n",
    "        print(\"The entered number is even number\",n)\n",
    "    else:\n",
    "        print(\"The entered number is odd \",n)\n",
    "        \n",
    "except ValueError:\n",
    "    \n",
    "    print(\"please don't enter float number\")\n",
    "    "
   ]
  },
  {
   "cell_type": "code",
   "execution_count": 54,
   "id": "133ae379",
   "metadata": {},
   "outputs": [
    {
     "name": "stdout",
     "output_type": "stream",
     "text": [
      "enter the number : 31\n",
      "The entered number is odd  31\n"
     ]
    }
   ],
   "source": [
    "try:\n",
    "    n=int(input(\"enter the number : \"))\n",
    "    if n%2==0:\n",
    "        print(\"The entered number is even number\",n)\n",
    "    else:\n",
    "        print(\"The entered number is odd \",n)\n",
    "        \n",
    "except ValueError:\n",
    "    \n",
    "    print(\"please don't enter float number\")\n",
    "    "
   ]
  },
  {
   "cell_type": "code",
   "execution_count": 55,
   "id": "56f318a4",
   "metadata": {},
   "outputs": [
    {
     "name": "stdout",
     "output_type": "stream",
     "text": [
      "enter the number : 20.5\n",
      "please don't enter float number\n"
     ]
    }
   ],
   "source": [
    "try:\n",
    "    n=int(input(\"enter the number : \"))\n",
    "    if n%2==0:\n",
    "        print(\"The entered number is even number\",n)\n",
    "    else:\n",
    "        print(\"The entered number is odd \",n)\n",
    "        \n",
    "except ValueError:\n",
    "    \n",
    "    print(\"please don't enter float number\")\n",
    "    "
   ]
  },
  {
   "cell_type": "code",
   "execution_count": null,
   "id": "8df84c78",
   "metadata": {},
   "outputs": [],
   "source": []
  },
  {
   "cell_type": "code",
   "execution_count": null,
   "id": "b5549568",
   "metadata": {},
   "outputs": [],
   "source": []
  },
  {
   "cell_type": "code",
   "execution_count": null,
   "id": "bd0e3cca",
   "metadata": {},
   "outputs": [],
   "source": [
    "14."
   ]
  },
  {
   "cell_type": "code",
   "execution_count": null,
   "id": "bffbdb48",
   "metadata": {},
   "outputs": [],
   "source": [
    " try clause in Python is to define a block of code \n",
    "where exceptions might occur. \n",
    " If an exception occurs, the execution of the try block\n",
    "is interrupted, and the corresponding except block \n",
    "is executed."
   ]
  },
  {
   "cell_type": "code",
   "execution_count": 56,
   "id": "374fa267",
   "metadata": {},
   "outputs": [
    {
     "name": "stdout",
     "output_type": "stream",
     "text": [
      "enter the first number 10\n",
      "enter the second number 0\n",
      "b should not be zero\n"
     ]
    }
   ],
   "source": [
    "a=int(input(\"enter the first number \"))\n",
    "b=int(input(\"enter the second number \"))\n",
    "try:\n",
    "    c=a/b\n",
    "    print(c)\n",
    "except ZeroDivisionError:\n",
    "    print(\"b should not be zero\")"
   ]
  },
  {
   "cell_type": "code",
   "execution_count": null,
   "id": "67ebcb1e",
   "metadata": {},
   "outputs": [],
   "source": []
  },
  {
   "cell_type": "code",
   "execution_count": 57,
   "id": "b0fac353",
   "metadata": {},
   "outputs": [
    {
     "name": "stdout",
     "output_type": "stream",
     "text": [
      "enter the first number 10\n",
      "enter the second number a\n",
      "please enter integer value\n",
      "enter the first number 10\n",
      "enter the second number 10\n",
      "1.0\n"
     ]
    }
   ],
   "source": [
    "while True:\n",
    "    #This code executes until condition becomes True\n",
    "    try:\n",
    "        a=int(input(\"enter the first number \"))\n",
    "        b=int(input(\"enter the second number \"))\n",
    "        c=a/b\n",
    "        print(c)\n",
    "        break\n",
    "    except ValueError:\n",
    "        print(\"please enter integer value\")\n",
    "    \n",
    "    except ZeroDivisionError:\n",
    "        print(\" b should not be zero\")"
   ]
  },
  {
   "cell_type": "code",
   "execution_count": null,
   "id": "ad671679",
   "metadata": {},
   "outputs": [],
   "source": []
  }
 ],
 "metadata": {
  "kernelspec": {
   "display_name": "Python 3 (ipykernel)",
   "language": "python",
   "name": "python3"
  },
  "language_info": {
   "codemirror_mode": {
    "name": "ipython",
    "version": 3
   },
   "file_extension": ".py",
   "mimetype": "text/x-python",
   "name": "python",
   "nbconvert_exporter": "python",
   "pygments_lexer": "ipython3",
   "version": "3.10.9"
  }
 },
 "nbformat": 4,
 "nbformat_minor": 5
}
