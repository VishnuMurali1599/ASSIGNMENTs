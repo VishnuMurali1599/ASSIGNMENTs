{
 "cells": [
  {
   "cell_type": "code",
   "execution_count": null,
   "id": "159793fd",
   "metadata": {},
   "outputs": [],
   "source": [
    "23/5/23"
   ]
  },
  {
   "cell_type": "code",
   "execution_count": null,
   "id": "1d77046b",
   "metadata": {},
   "outputs": [],
   "source": []
  },
  {
   "cell_type": "code",
   "execution_count": null,
   "id": "1f0d6f36",
   "metadata": {},
   "outputs": [],
   "source": [
    "1."
   ]
  },
  {
   "cell_type": "code",
   "execution_count": null,
   "id": "c457830c",
   "metadata": {},
   "outputs": [],
   "source": [
    "* = expresiion"
   ]
  },
  {
   "cell_type": "code",
   "execution_count": null,
   "id": "e6a3ca96",
   "metadata": {},
   "outputs": [],
   "source": [
    "'hello'= value"
   ]
  },
  {
   "cell_type": "code",
   "execution_count": null,
   "id": "a6fa2af0",
   "metadata": {},
   "outputs": [],
   "source": [
    "-87.8= value"
   ]
  },
  {
   "cell_type": "code",
   "execution_count": null,
   "id": "9c98afad",
   "metadata": {},
   "outputs": [],
   "source": [
    "- = expression"
   ]
  },
  {
   "cell_type": "code",
   "execution_count": null,
   "id": "ed537cfd",
   "metadata": {},
   "outputs": [],
   "source": [
    "/ = expression"
   ]
  },
  {
   "cell_type": "code",
   "execution_count": null,
   "id": "ed85f46c",
   "metadata": {},
   "outputs": [],
   "source": [
    "+ = expression"
   ]
  },
  {
   "cell_type": "code",
   "execution_count": null,
   "id": "0588e74f",
   "metadata": {},
   "outputs": [],
   "source": [
    "6 = value"
   ]
  },
  {
   "cell_type": "code",
   "execution_count": null,
   "id": "4e2bd6d9",
   "metadata": {},
   "outputs": [],
   "source": []
  },
  {
   "cell_type": "code",
   "execution_count": null,
   "id": "cafa005c",
   "metadata": {},
   "outputs": [],
   "source": [
    "2."
   ]
  },
  {
   "cell_type": "code",
   "execution_count": null,
   "id": "8d613d47",
   "metadata": {},
   "outputs": [],
   "source": [
    "Strings :"
   ]
  },
  {
   "cell_type": "code",
   "execution_count": null,
   "id": "fbf57c1e",
   "metadata": {},
   "outputs": [],
   "source": [
    "#Strings in python are sequence of character data .\n",
    "#They are created by enclosing character  in quotes."
   ]
  },
  {
   "cell_type": "code",
   "execution_count": null,
   "id": "7707e0f5",
   "metadata": {},
   "outputs": [],
   "source": [
    "Variables:"
   ]
  },
  {
   "cell_type": "code",
   "execution_count": null,
   "id": "8594dded",
   "metadata": {},
   "outputs": [],
   "source": [
    "#In python ,a variable is a named location used to store data in memory.\n",
    "# Variables are declared by writting the variable name and assigning it a value using the equal sign.\n"
   ]
  },
  {
   "cell_type": "code",
   "execution_count": null,
   "id": "4f9d833e",
   "metadata": {},
   "outputs": [],
   "source": []
  },
  {
   "cell_type": "code",
   "execution_count": null,
   "id": "0795f0d4",
   "metadata": {},
   "outputs": [],
   "source": [
    "3."
   ]
  },
  {
   "cell_type": "code",
   "execution_count": null,
   "id": "4094f1a4",
   "metadata": {},
   "outputs": [],
   "source": [
    "Three different datatypes are:\n",
    "    1.int\n",
    "    2.float\n",
    "    3.complex"
   ]
  },
  {
   "cell_type": "code",
   "execution_count": null,
   "id": "b8fb6ec6",
   "metadata": {},
   "outputs": [],
   "source": []
  },
  {
   "cell_type": "code",
   "execution_count": null,
   "id": "3cb46961",
   "metadata": {},
   "outputs": [],
   "source": [
    "4."
   ]
  },
  {
   "cell_type": "code",
   "execution_count": null,
   "id": "580e69ab",
   "metadata": {},
   "outputs": [],
   "source": [
    "'''Expressions are an essential part of programming \n",
    "as they allow you to manipulate and operate on data, make decisions, \n",
    "and perform computations.'''\n",
    "\n",
    "'''expression is made up of one or more elements such as literals, variables, operators, \n",
    "and function '''"
   ]
  },
  {
   "cell_type": "code",
   "execution_count": null,
   "id": "6cd7f17e",
   "metadata": {},
   "outputs": [],
   "source": []
  },
  {
   "cell_type": "code",
   "execution_count": null,
   "id": "583e6626",
   "metadata": {},
   "outputs": [],
   "source": [
    "5."
   ]
  },
  {
   "cell_type": "code",
   "execution_count": 12,
   "id": "72924fd9",
   "metadata": {},
   "outputs": [],
   "source": [
    "spam=10"
   ]
  },
  {
   "cell_type": "code",
   "execution_count": null,
   "id": "63c95799",
   "metadata": {},
   "outputs": [],
   "source": [
    "'''Assignment is nothing but we are assigning the values or string\n",
    "or datastructure to a particular variable'''"
   ]
  },
  {
   "cell_type": "code",
   "execution_count": null,
   "id": "80c27335",
   "metadata": {},
   "outputs": [],
   "source": [
    "'''Expression:\n",
    "An expression is a combination of values, variables, operators, and function calls that can be evaluated \n",
    "to produce a value.'''\n",
    "\n",
    "'''Statement:\n",
    "A statement is a complete instruction or action that performs a specific taskStatements are used to control the flow of execution,\n",
    "perform operations, or modify program state.'''"
   ]
  },
  {
   "cell_type": "code",
   "execution_count": null,
   "id": "5e83f6a1",
   "metadata": {},
   "outputs": [],
   "source": []
  },
  {
   "cell_type": "code",
   "execution_count": null,
   "id": "502fe639",
   "metadata": {},
   "outputs": [],
   "source": [
    "6."
   ]
  },
  {
   "cell_type": "code",
   "execution_count": 3,
   "id": "549d18f5",
   "metadata": {},
   "outputs": [],
   "source": [
    "bacon=22"
   ]
  },
  {
   "cell_type": "code",
   "execution_count": 4,
   "id": "e98f3574",
   "metadata": {},
   "outputs": [
    {
     "data": {
      "text/plain": [
       "23"
      ]
     },
     "execution_count": 4,
     "metadata": {},
     "output_type": "execute_result"
    }
   ],
   "source": [
    "bacon +1"
   ]
  },
  {
   "cell_type": "code",
   "execution_count": null,
   "id": "e7bcfb29",
   "metadata": {},
   "outputs": [],
   "source": []
  },
  {
   "cell_type": "code",
   "execution_count": null,
   "id": "5e3c3b71",
   "metadata": {},
   "outputs": [],
   "source": [
    "7."
   ]
  },
  {
   "cell_type": "code",
   "execution_count": 5,
   "id": "2bb1c9eb",
   "metadata": {},
   "outputs": [
    {
     "data": {
      "text/plain": [
       "'spamspamspam'"
      ]
     },
     "execution_count": 5,
     "metadata": {},
     "output_type": "execute_result"
    }
   ],
   "source": [
    "'spam'+'spamspam'"
   ]
  },
  {
   "cell_type": "code",
   "execution_count": 6,
   "id": "45d2d09d",
   "metadata": {},
   "outputs": [
    {
     "data": {
      "text/plain": [
       "'spamspamspam'"
      ]
     },
     "execution_count": 6,
     "metadata": {},
     "output_type": "execute_result"
    }
   ],
   "source": [
    "'spam'*3"
   ]
  },
  {
   "cell_type": "code",
   "execution_count": null,
   "id": "ca673151",
   "metadata": {},
   "outputs": [],
   "source": []
  },
  {
   "cell_type": "code",
   "execution_count": null,
   "id": "dec0314e",
   "metadata": {},
   "outputs": [],
   "source": [
    "8."
   ]
  },
  {
   "cell_type": "code",
   "execution_count": null,
   "id": "69381cf0",
   "metadata": {},
   "outputs": [],
   "source": [
    "#rules for defining variable:\n",
    "\n",
    "''''\n",
    "1.the first letter of a variable must be aplhabet or underscore\n",
    "2.except the first character the remaining can be alphabet of lowercase,\n",
    "  uppercase or digits'''"
   ]
  },
  {
   "cell_type": "code",
   "execution_count": 13,
   "id": "be9a3cba",
   "metadata": {},
   "outputs": [],
   "source": [
    "eggs=10 # can be defined"
   ]
  },
  {
   "cell_type": "code",
   "execution_count": 14,
   "id": "293fb174",
   "metadata": {},
   "outputs": [],
   "source": [
    "_100=100   #can be defined"
   ]
  },
  {
   "cell_type": "code",
   "execution_count": null,
   "id": "4860483d",
   "metadata": {},
   "outputs": [],
   "source": []
  },
  {
   "cell_type": "code",
   "execution_count": null,
   "id": "b28aeab7",
   "metadata": {},
   "outputs": [],
   "source": [
    "9."
   ]
  },
  {
   "cell_type": "code",
   "execution_count": null,
   "id": "d2085dcf",
   "metadata": {},
   "outputs": [],
   "source": [
    "int()"
   ]
  },
  {
   "cell_type": "code",
   "execution_count": null,
   "id": "1df71258",
   "metadata": {},
   "outputs": [],
   "source": [
    "float()"
   ]
  },
  {
   "cell_type": "code",
   "execution_count": null,
   "id": "a30ce3ff",
   "metadata": {},
   "outputs": [],
   "source": [
    "str()"
   ]
  },
  {
   "cell_type": "code",
   "execution_count": null,
   "id": "346fa600",
   "metadata": {},
   "outputs": [],
   "source": []
  },
  {
   "cell_type": "code",
   "execution_count": null,
   "id": "176e5c9f",
   "metadata": {},
   "outputs": [],
   "source": [
    "10."
   ]
  },
  {
   "cell_type": "code",
   "execution_count": null,
   "id": "0875724f",
   "metadata": {},
   "outputs": [],
   "source": [
    "'i have eaten '+ 99 +'burritos'"
   ]
  },
  {
   "cell_type": "code",
   "execution_count": null,
   "id": "55ded5dd",
   "metadata": {},
   "outputs": [],
   "source": [
    "'''Because we cannot combine string with integer,it can only \n",
    "concatenate with string'''"
   ]
  },
  {
   "cell_type": "code",
   "execution_count": 11,
   "id": "f093da1d",
   "metadata": {},
   "outputs": [
    {
     "data": {
      "text/plain": [
       "'i have eaten 99burritos'"
      ]
     },
     "execution_count": 11,
     "metadata": {},
     "output_type": "execute_result"
    }
   ],
   "source": [
    "'i have eaten '+  str(99)  + 'burritos'"
   ]
  },
  {
   "cell_type": "code",
   "execution_count": null,
   "id": "371aa59a",
   "metadata": {},
   "outputs": [],
   "source": []
  }
 ],
 "metadata": {
  "kernelspec": {
   "display_name": "Python 3 (ipykernel)",
   "language": "python",
   "name": "python3"
  },
  "language_info": {
   "codemirror_mode": {
    "name": "ipython",
    "version": 3
   },
   "file_extension": ".py",
   "mimetype": "text/x-python",
   "name": "python",
   "nbconvert_exporter": "python",
   "pygments_lexer": "ipython3",
   "version": "3.10.9"
  }
 },
 "nbformat": 4,
 "nbformat_minor": 5
}
